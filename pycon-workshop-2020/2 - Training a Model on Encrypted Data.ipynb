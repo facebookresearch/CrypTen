{
 "cells": [
  {
   "cell_type": "markdown",
   "metadata": {},
   "source": [
    "# Training a Model on Encrypted Data"
   ]
  },
  {
   "cell_type": "code",
   "execution_count": 1,
   "metadata": {},
   "outputs": [
    {
     "name": "stderr",
     "output_type": "stream",
     "text": [
      "WARNING:root:module 'torchvision.models.mobilenet' has no attribute 'ConvBNReLU'\n"
     ]
    }
   ],
   "source": [
    "import sys\n",
    "import torch\n",
    "import torchvision\n",
    "import matplotlib.pyplot as plt\n",
    "\n",
    "\n",
    "# python 3.7 is required\n",
    "assert sys.version_info[0] == 3 and sys.version_info[1] == 7, \"python 3.7 is required\"\n",
    "\n",
    "import crypten\n",
    "crypten.init()\n",
    "\n",
    "%matplotlib inline"
   ]
  },
  {
   "cell_type": "markdown",
   "metadata": {},
   "source": [
    "## MNIST"
   ]
  },
  {
   "cell_type": "code",
   "execution_count": 2,
   "metadata": {},
   "outputs": [],
   "source": [
    "digits = torchvision.datasets.MNIST(root='/tmp/data', \n",
    "                                           train=True, \n",
    "                                           transform=torchvision.transforms.ToTensor(),\n",
    "                                           download=True)\n",
    "\n",
    "digits_test = torchvision.datasets.MNIST(root='/tmp/data', \n",
    "                                           train=True, \n",
    "                                           transform=torchvision.transforms.ToTensor(),\n",
    "                                           download=True)"
   ]
  },
  {
   "cell_type": "code",
   "execution_count": 3,
   "metadata": {},
   "outputs": [
    {
     "data": {
      "text/plain": [
       "<matplotlib.image.AxesImage at 0x7fd1e9ef9750>"
      ]
     },
     "execution_count": 3,
     "metadata": {},
     "output_type": "execute_result"
    },
    {
     "data": {
      "image/png": "[encoded data removed]",
      "text/plain": [
       "<Figure size 432x288 with 1 Axes>"
      ]
     },
     "metadata": {
      "needs_background": "light"
     },
     "output_type": "display_data"
    }
   ],
   "source": [
    "plt.imshow(digits[0][0][0], cmap='gray', interpolation='none')"
   ]
  },
  {
   "cell_type": "code",
   "execution_count": 4,
   "metadata": {},
   "outputs": [
    {
     "name": "stdout",
     "output_type": "stream",
     "text": [
      "label for image is  5\n"
     ]
    }
   ],
   "source": [
    "print(\"label for image is \", digits[0][1])"
   ]
  },
  {
   "cell_type": "markdown",
   "metadata": {},
   "source": [
    "## Preprocess Into Tensors"
   ]
  },
  {
   "cell_type": "code",
   "execution_count": 5,
   "metadata": {},
   "outputs": [],
   "source": [
    "def take_samples(digits, n_samples=1000):\n",
    "    \"\"\"Returns images and labels based on sample size\"\"\"\n",
    "    images, labels = [], []\n",
    "\n",
    "    for i, digit in enumerate(digits):\n",
    "        if i == n_samples:\n",
    "            break\n",
    "        image, label = digit\n",
    "        images.append(image)\n",
    "        label_one_hot = torch.nn.functional.one_hot(torch.tensor(label), 10)\n",
    "        labels.append(label_one_hot)\n",
    "\n",
    "    images = torch.cat(images)\n",
    "    labels = torch.stack(labels)\n",
    "    return images, labels\n",
    "    "
   ]
  },
  {
   "cell_type": "code",
   "execution_count": 6,
   "metadata": {},
   "outputs": [],
   "source": [
    "images, labels = take_samples(digits, n_samples=100)\n",
    "images = images.unsqueeze(1)"
   ]
  },
  {
   "cell_type": "code",
   "execution_count": 7,
   "metadata": {},
   "outputs": [
    {
     "name": "stdout",
     "output_type": "stream",
     "text": [
      "torch.Size([100, 1, 28, 28])\n",
      "torch.Size([100, 10])\n"
     ]
    }
   ],
   "source": [
    "print(images.shape)\n",
    "print(labels.shape)"
   ]
  },
  {
   "cell_type": "code",
   "execution_count": 8,
   "metadata": {},
   "outputs": [],
   "source": [
    "images_enc = crypten.cryptensor(images)\n",
    "labels_enc = crypten.cryptensor(labels)"
   ]
  },
  {
   "cell_type": "code",
   "execution_count": 9,
   "metadata": {},
   "outputs": [
    {
     "data": {
      "text/plain": [
       "MPCTensor(\n",
       "\t_tensor=tensor([[[    0,     0,     0,     0,     0,     0,     0,     0,     0,     0,\n",
       "              0,     0,     0,     0,     0,     0,     0,     0,     0,     0,\n",
       "              0,     0,     0,     0,     0,     0,     0,     0],\n",
       "         [    0,     0,     0,     0,     0,     0,     0,     0,     0,     0,\n",
       "              0,     0,     0,     0,     0,     0,     0,     0,     0,     0,\n",
       "              0,     0,     0,     0,     0,     0,     0,     0],\n",
       "         [    0,     0,     0,     0,     0,     0,     0,     0,     0,     0,\n",
       "              0,     0,     0,     0,     0,     0,     0,     0,     0,     0,\n",
       "              0,     0,     0,     0,     0,     0,     0,     0],\n",
       "         [    0,     0,     0,     0,     0,     0,     0,     0,     0,     0,\n",
       "              0,     0,     0,     0,     0,     0,     0,     0,     0,     0,\n",
       "              0,     0,     0,     0,     0,     0,     0,     0],\n",
       "         [    0,     0,     0,     0,     0,     0,     0,     0,     0,     0,\n",
       "              0,     0,     0,     0,     0,     0,     0,     0,     0,     0,\n",
       "              0,     0,     0,     0,     0,     0,     0,     0],\n",
       "         [    0,     0,     0,     0,     0,     0,     0,     0,     0,     0,\n",
       "              0,     0,   771,  4626,  4626,  4626, 32382, 34952, 44975,  6682,\n",
       "          42662, 65536, 63479, 32639,     0,     0,     0,     0],\n",
       "         [    0,     0,     0,     0,     0,     0,     0,     0,  7710,  9252,\n",
       "          24158, 39578, 43690, 65021, 65021, 65021, 65021, 65021, 57825, 44204,\n",
       "          65021, 62194, 50115, 16448,     0,     0,     0,     0],\n",
       "         [    0,     0,     0,     0,     0,     0,     0, 12593, 61166, 65021,\n",
       "          65021, 65021, 65021, 65021, 65021, 65021, 65021, 64507, 23901, 21074,\n",
       "          21074, 14392, 10023,     0,     0,     0,     0,     0],\n",
       "         [    0,     0,     0,     0,     0,     0,     0,  4626, 56283, 65021,\n",
       "          65021, 65021, 65021, 65021, 50886, 46774, 63479, 61937,     0,     0,\n",
       "              0,     0,     0,     0,     0,     0,     0,     0],\n",
       "         [    0,     0,     0,     0,     0,     0,     0,     0, 20560, 40092,\n",
       "          27499, 65021, 65021, 52685,  2827,     0, 11051, 39578,     0,     0,\n",
       "              0,     0,     0,     0,     0,     0,     0,     0],\n",
       "         [    0,     0,     0,     0,     0,     0,     0,     0,     0,  3598,\n",
       "            257, 39578, 65021, 23130,     0,     0,     0,     0,     0,     0,\n",
       "              0,     0,     0,     0,     0,     0,     0,     0],\n",
       "         [    0,     0,     0,     0,     0,     0,     0,     0,     0,     0,\n",
       "              0, 35723, 65021, 48830,   514,     0,     0,     0,     0,     0,\n",
       "              0,     0,     0,     0,     0,     0,     0,     0],\n",
       "         [    0,     0,     0,     0,     0,     0,     0,     0,     0,     0,\n",
       "              0,  2827, 48830, 65021, 17990,     0,     0,     0,     0,     0,\n",
       "              0,     0,     0,     0,     0,     0,     0,     0],\n",
       "         [    0,     0,     0,     0,     0,     0,     0,     0,     0,     0,\n",
       "              0,     0,  8995, 61937, 57825, 41120, 27756,   257,     0,     0,\n",
       "              0,     0,     0,     0,     0,     0,     0,     0],\n",
       "         [    0,     0,     0,     0,     0,     0,     0,     0,     0,     0,\n",
       "              0,     0,     0, 20817, 61680, 65021, 65021, 30583,  6425,     0,\n",
       "              0,     0,     0,     0,     0,     0,     0,     0],\n",
       "         [    0,     0,     0,     0,     0,     0,     0,     0,     0,     0,\n",
       "              0,     0,     0,     0, 11565, 47802, 65021, 65021, 38550,  6939,\n",
       "              0,     0,     0,     0,     0,     0,     0,     0],\n",
       "         [    0,     0,     0,     0,     0,     0,     0,     0,     0,     0,\n",
       "              0,     0,     0,     0,     0,  4112, 23901, 64764, 65021, 48059,\n",
       "              0,     0,     0,     0,     0,     0,     0,     0],\n",
       "         [    0,     0,     0,     0,     0,     0,     0,     0,     0,     0,\n",
       "              0,     0,     0,     0,     0,     0,     0, 63993, 65021, 63993,\n",
       "          16448,     0,     0,     0,     0,     0,     0,     0],\n",
       "         [    0,     0,     0,     0,     0,     0,     0,     0,     0,     0,\n",
       "              0,     0,     0,     0, 11822, 33410, 47031, 65021, 65021, 53199,\n",
       "            514,     0,     0,     0,     0,     0,     0,     0],\n",
       "         [    0,     0,     0,     0,     0,     0,     0,     0,     0,     0,\n",
       "              0,     0, 10023, 38036, 58853, 65021, 65021, 65021, 64250, 46774,\n",
       "              0,     0,     0,     0,     0,     0,     0,     0],\n",
       "         [    0,     0,     0,     0,     0,     0,     0,     0,     0,     0,\n",
       "           6168, 29298, 56797, 65021, 65021, 65021, 65021, 51657, 20046,     0,\n",
       "              0,     0,     0,     0,     0,     0,     0,     0],\n",
       "         [    0,     0,     0,     0,     0,     0,     0,     0,  5911, 16962,\n",
       "          54741, 65021, 65021, 65021, 65021, 50886, 20817,   514,     0,     0,\n",
       "              0,     0,     0,     0,     0,     0,     0,     0],\n",
       "         [    0,     0,     0,     0,     0,     0,  4626, 43947, 56283, 65021,\n",
       "          65021, 65021, 65021, 50115, 20560,  2313,     0,     0,     0,     0,\n",
       "              0,     0,     0,     0,     0,     0,     0,     0],\n",
       "         [    0,     0,     0,     0, 14135, 44204, 58082, 65021, 65021, 65021,\n",
       "          65021, 62708, 34181,  2827,     0,     0,     0,     0,     0,     0,\n",
       "              0,     0,     0,     0,     0,     0,     0,     0],\n",
       "         [    0,     0,     0,     0, 34952, 65021, 65021, 65021, 54484, 34695,\n",
       "          33924,  4112,     0,     0,     0,     0,     0,     0,     0,     0,\n",
       "              0,     0,     0,     0,     0,     0,     0,     0],\n",
       "         [    0,     0,     0,     0,     0,     0,     0,     0,     0,     0,\n",
       "              0,     0,     0,     0,     0,     0,     0,     0,     0,     0,\n",
       "              0,     0,     0,     0,     0,     0,     0,     0],\n",
       "         [    0,     0,     0,     0,     0,     0,     0,     0,     0,     0,\n",
       "              0,     0,     0,     0,     0,     0,     0,     0,     0,     0,\n",
       "              0,     0,     0,     0,     0,     0,     0,     0],\n",
       "         [    0,     0,     0,     0,     0,     0,     0,     0,     0,     0,\n",
       "              0,     0,     0,     0,     0,     0,     0,     0,     0,     0,\n",
       "              0,     0,     0,     0,     0,     0,     0,     0]]])\n",
       "\tplain_text=HIDDEN\n",
       "\tptype=ptype.arithmetic\n",
       ")"
      ]
     },
     "execution_count": 9,
     "metadata": {},
     "output_type": "execute_result"
    }
   ],
   "source": [
    "images_enc[0]"
   ]
  },
  {
   "cell_type": "code",
   "execution_count": 10,
   "metadata": {},
   "outputs": [],
   "source": [
    "# test set\n",
    "images_test, labels_test = take_samples(digits_test, n_samples=20)\n",
    "images_test_enc = crypten.cryptensor(images_test)\n",
    "labels_test_enc = crypten.cryptensor(labels_test)"
   ]
  },
  {
   "cell_type": "markdown",
   "metadata": {},
   "source": [
    "## Logistic Regression Model\n",
    "\n",
    "(multiclass logistic regression)"
   ]
  },
  {
   "cell_type": "code",
   "execution_count": 11,
   "metadata": {},
   "outputs": [],
   "source": [
    "class LogisticRegression(crypten.nn.Module):\n",
    "    \n",
    "    def __init__(self):\n",
    "        super().__init__()\n",
    "        # images are 28x28 pixels\n",
    "        self.linear = crypten.nn.Linear(28 * 28, 10)\n",
    "        \n",
    "    def forward(self, x):\n",
    "        return self.linear(x.flatten(start_dim=1))\n",
    "        \n",
    "    "
   ]
  },
  {
   "cell_type": "code",
   "execution_count": 12,
   "metadata": {},
   "outputs": [],
   "source": [
    "model = LogisticRegression().encrypt()"
   ]
  },
  {
   "cell_type": "code",
   "execution_count": 13,
   "metadata": {},
   "outputs": [
    {
     "data": {
      "text/plain": [
       "MPCTensor(\n",
       "\t_tensor=tensor([[ -7212,  -4832, -18332,  -1289, -14345, -10329, -20953,  17165, -26486,\n",
       "           7973],\n",
       "        [ -4941,  14792, -17722,  21735,  -9983,   4587,  -4442,  11390, -44190,\n",
       "            122],\n",
       "        [ 11571,  17364,    995,  12531, -13151,  13358,  -6799,  -5498, -10863,\n",
       "         -12377],\n",
       "        [ 12576,  -8088, -12991,  -4375,  -6995,  -5857,   2563,   3591, -20752,\n",
       "            685],\n",
       "        [ -2223,   4062,  -8420,   5543, -14815,  12751,   5019,  17012, -18646,\n",
       "          13673],\n",
       "        [ -8783,   8678, -12389,  17346,   1583,  22358,  -4514,   4856, -41324,\n",
       "           7442],\n",
       "        [  1564,  10381,   8001,   -848, -13249,  16488,   7019,  14232,   -692,\n",
       "          17547],\n",
       "        [  5243,  23551, -15260,  28311,  -8729,  14170, -14053,   1791, -33591,\n",
       "          11378],\n",
       "        [  2616,   -294,    833,  -8909, -18784,  12657,   8126,  17566,   6428,\n",
       "          17520],\n",
       "        [  3399,   4754,   -566,  12797,   6129,  14565,   6011,  12069, -16259,\n",
       "          -5706],\n",
       "        [   865,  11821,   -620,  16376, -21973,  17541,  -5663,  10869, -13874,\n",
       "          18923],\n",
       "        [ 11869,   -440,  -4881,  20986,   5914,   5042,  12150,   3967, -24299,\n",
       "            637],\n",
       "        [  7612,  13537,   -109,   5460, -28395,   9418,  -7524,   4946, -32486,\n",
       "          -3631],\n",
       "        [  1019,   7641,  10418,  -5475, -26059,  20746,   6024,  22127,  -5551,\n",
       "          11373],\n",
       "        [  2466,   4393,  -2303,  -5742, -17815,  14474,  10662,  17065,   1807,\n",
       "           9591],\n",
       "        [  7242,  17784,  -7460,  12391, -12229,  10155, -14227,   8442, -27495,\n",
       "          -7123],\n",
       "        [ -7222,  -4973,   1569,  27344,   7290,  10289, -20722,  -2878, -13358,\n",
       "          12340],\n",
       "        [ -5855,   4273,  -7624,   2729,  -5141,   8021,  -1459,  11308, -26404,\n",
       "          -2546],\n",
       "        [ 11004,   5733,    994, -14600,    500,   8528,  -3840,  11112, -24731,\n",
       "           2472],\n",
       "        [  2431,   9442,   2985,   1486, -11549,  11199,   2648,  20748, -19516,\n",
       "          -6030],\n",
       "        [   487,   3180,   9879,   8938,  -5495,  -4019,  -5690,  12277, -16134,\n",
       "           2874],\n",
       "        [ -7025,  13082, -21187,  27813,  -4597,   1034,  -1547,  -3074, -55812,\n",
       "            739],\n",
       "        [  -278,   9946,  -1842,   1382,  -5491,  15155,  -4391,  15079,  -9871,\n",
       "          -5589],\n",
       "        [ 10266,  -3644, -10969,  -1807,  -9206,  -3307,   3722,   4451, -21254,\n",
       "           1546],\n",
       "        [   839,  10198, -25629,   7534, -13437,   7138,  -5762,   6140, -10215,\n",
       "          -4432],\n",
       "        [ -3813,  11817, -15032,   9683,   5505,  29148, -16020,  -3277, -50608,\n",
       "           5202],\n",
       "        [  7283,  -2217,  -5354,   5192, -14104,   2477, -13669,  -6474,   1786,\n",
       "          10925],\n",
       "        [ -4052,  21655, -22230,  29691, -16029,  19392, -18390,   4031, -39273,\n",
       "           4260],\n",
       "        [  8203,   1299, -14743,  28712,  -8870,  25171,   6966,  13567, -41517,\n",
       "          15202],\n",
       "        [  4045,   5149, -15383,   -601, -12744,  13553,   6535,  13946,  -3504,\n",
       "           2127],\n",
       "        [  5116, -11364,  -1532, -11052, -33686,   -681, -15976,  -7463,  -4338,\n",
       "           -859],\n",
       "        [ -7461,  18290, -22552,  12466,  10825,  27055,   3000,  10431, -27756,\n",
       "          11504],\n",
       "        [ 15689,  17611,   -224,   -420, -13338,  -5298, -13414,   -530, -16874,\n",
       "          16535],\n",
       "        [ -1491,  13933,  -3639,   3535,  -9286,  15598,   4458,  17314, -24089,\n",
       "           3538],\n",
       "        [  6527,  12070, -12584,  22085,      2,   7917, -13291,    175, -34555,\n",
       "           7671],\n",
       "        [ 18645,  10698, -20525,  -1852, -12665,   2945,   1275, -13533, -24534,\n",
       "          -4238],\n",
       "        [  9435,  14764, -11948,  -1134, -19716,   6408,  -4725,  10729, -24008,\n",
       "           9377],\n",
       "        [ 13227,  16275,  -4673,  24837,   6178,  11206,   -773,   2628, -52492,\n",
       "           3500],\n",
       "        [ -8346,  -9538,   2369,    695,  -7828,   5649,  -4269,  -3974,   1657,\n",
       "          17428],\n",
       "        [  9839,  17904,   1678,   4033, -16953,  10286,  -7804,  11867, -17010,\n",
       "          17216],\n",
       "        [ -8503,  12733,   3261,  -2763,  -6974,  16498,   4752,  14991, -12935,\n",
       "           9614],\n",
       "        [ -9338,  -4039,  -4666,   4594,  -6083,   5659,  -2741,   2552, -24829,\n",
       "          13680],\n",
       "        [ -6753,   7127,   1511,  -2686, -17491,   2928, -12413,   9446,  -5149,\n",
       "          -1045],\n",
       "        [ -8144,   8729,   2767,   -557, -11762,   4263,   -462,   6376, -19740,\n",
       "           5165],\n",
       "        [ -2953,  -1412,   1908,   9393,  -9103,  -2805,   8829,  -1026, -12202,\n",
       "          11689],\n",
       "        [ -8236,   6895,   5203,  10269,  -3918,   5958,  -4958,  11584, -13806,\n",
       "           6130],\n",
       "        [ -4653,   4637,   1112,  20567,   -873,  -8045,  -6659,   -336, -21891,\n",
       "           7400],\n",
       "        [  8363,  -1435,  -6531,  -3196,  -3541, -10244, -20117,   3787, -34045,\n",
       "           6230],\n",
       "        [ -2824,   7967,   -709,  10494, -18664,   8207,  -9563,  -4795,   -578,\n",
       "           4122],\n",
       "        [ 11044,  16684, -18007,  16236, -13508,   1412, -14879,  -1465, -37910,\n",
       "           3065],\n",
       "        [ -2062,  16253,   4289,  -1403,  -4351,  13487, -12187,   9155, -32442,\n",
       "            449],\n",
       "        [ -2396,  23243, -17470,  31221, -16252,   8536, -12260,    308, -74973,\n",
       "           -769],\n",
       "        [ -2008,   9115,    412,  31623, -13526,  -3470, -10338,   -893, -17899,\n",
       "          13217],\n",
       "        [  9569,  12331,  -3403,    -67, -28221,   7050,   3570,  17150,  -5087,\n",
       "          -8627],\n",
       "        [  -389,  15265,   8744,   8408, -14889,   2488, -11739,  -5181,  -9991,\n",
       "          17528],\n",
       "        [   539,  10017,  -9173,  11363, -19615,   6606,   2367,  18533, -22902,\n",
       "          19123],\n",
       "        [ -6319,  20110,  -8734,  22094, -17039,   8065,  -5312,   4163, -42530,\n",
       "         -11896],\n",
       "        [ -3059,  12861,   2074,   3073,  -3018,  12358,  -5950,   9052, -18595,\n",
       "          -3406],\n",
       "        [ -2282,  25933,   5303,  14407, -12462, -14758, -11056,    275, -25137,\n",
       "           4092],\n",
       "        [ -1088,  -3653,  -3484,  -1235,  -3111,  -4943,     12,   4700, -25892,\n",
       "           1970],\n",
       "        [-16102,  11788,    223,   7443,  -6631,   5038, -10592,  -8020, -12883,\n",
       "           2572],\n",
       "        [ 12547,  -1449,  -2672,   5714, -13713,   9836,   8387,   3930, -12374,\n",
       "           4860],\n",
       "        [ 12246,  15080,  -9261,   1249,  -9109,   6391,  -9425,  13571, -27376,\n",
       "          10452],\n",
       "        [-13407,  23190, -17070,  24148,    517,   5146,   9229,   1327, -53709,\n",
       "          10483],\n",
       "        [ 12316,  21915,   8578,  15366,  -6033,  -4849,   5626,   4169, -26689,\n",
       "          12606],\n",
       "        [  9738,   3588, -12187,  17044,    945,     24,  18965,   4595, -13743,\n",
       "           3784],\n",
       "        [  8679,  12745,   2080,   3195,  -9574,  13488,   2520,  10066, -15249,\n",
       "           3408],\n",
       "        [  1706,   4747,  -8175,  -2770, -10274,   1229,   3216,  14423, -17473,\n",
       "          -3658],\n",
       "        [-11017,  14004,   -522,  -2384,   2290,   6612, -12318,   2674, -17874,\n",
       "          10371],\n",
       "        [  6843,  26961,   -889,  29242,  -3086,  17668, -11271,    903, -52006,\n",
       "           1585],\n",
       "        [  3367,  13017,    -99,   -631, -19295,   8083,   2394,  16636,  -7754,\n",
       "          13581],\n",
       "        [ 11778,  11115, -10153,  13552,  -8972,  18082,  -3164,   3947, -17818,\n",
       "          -5783],\n",
       "        [ -3029,  15077,   3627,  -9648, -14198,  11524,   4470,  16911,  -8885,\n",
       "           8876],\n",
       "        [  5099,  11414,  -7662,  -1538, -17151,  18957,   9123,  20050,   3407,\n",
       "           7743],\n",
       "        [  -184,   8420,   2084,  10993, -22006,  10966,  -2514,   -596,  -4404,\n",
       "          11007],\n",
       "        [  1533,  13701,  -9184,  26398,   -464,  19695,    105,   8432, -54242,\n",
       "           2016],\n",
       "        [  6389,  11478,  -5823,   -955,   7669,  16234,   1532,   3048, -30707,\n",
       "          13457],\n",
       "        [  4877,   1911, -15712,    211,  -7068,  -4691,   1460,   5025, -17804,\n",
       "          -1326],\n",
       "        [ -6511,   4228,  -7110,  -5708, -10980,  10677,   4203,  15502, -30860,\n",
       "           2891],\n",
       "        [  8780,  11833, -22912,   5567,  -8783,  19688,   -282,  14711, -17239,\n",
       "          -2702],\n",
       "        [  -826,  38245,   3011,   9998,  -3775,  18834,  -4991,    217, -22396,\n",
       "           5460],\n",
       "        [ -2121,  17146, -14755,  24193,  -3601,  16455, -13377,  -1977, -46809,\n",
       "           7285],\n",
       "        [ 19164,  25303,  -8805,  27379,   6059,  34245,  -7883,  -1807, -51946,\n",
       "          19156],\n",
       "        [ -5535,  24455,   5675,   1677, -14452,   8533,  16982,  29174, -14165,\n",
       "          13324],\n",
       "        [ -3968,  -2377,  -9615,  11719,  -6303,   5271,   3397,   1178,  -6738,\n",
       "          13682],\n",
       "        [   841,   9637, -11046,  12713,   1654,  10850,  -7913,  -2963, -22851,\n",
       "           8307],\n",
       "        [ -3169,   6187, -13643,   -803, -22824,  16557,   4851,   8129,   5152,\n",
       "           -788],\n",
       "        [  2697,  17329,  -4350,   6123,   -403,  18276,  -4427,  10947, -18919,\n",
       "           4631],\n",
       "        [ -6854,  22521,  -1593,  24789,  -7175,  20710, -18236,  11271, -44893,\n",
       "          -7735],\n",
       "        [  6516,  17380,  -3585,   7665,   -676,   9383, -17343,   5269, -28214,\n",
       "          -2340],\n",
       "        [ 11690,  14025,    190,  -6676,  -5216,   5349, -10027,  16121, -29398,\n",
       "          11126],\n",
       "        [ 10085,  15044,  -3461,  21915,  -3637,   1462, -14881,   5748, -22443,\n",
       "          -2661],\n",
       "        [ -3934,   7810,   4486,  10074,   2273,  -6529,  -7624,  -4194, -13489,\n",
       "          -1225],\n",
       "        [   -59,  15031,   7341,  -9806, -20435,  20827,   6772,  23677, -20571,\n",
       "          14433],\n",
       "        [ -7376,  14636, -12920,   6909, -17675,   7119, -11259,  16738, -20831,\n",
       "          16055],\n",
       "        [   560,  20739,  -3204,  21799,  -3149,  19988, -10483,   8447, -53624,\n",
       "           4706],\n",
       "        [-13979,  12793,    889,  -1890,  -8276,   4375,  -9801,  10600, -15293,\n",
       "           4127],\n",
       "        [ -4332,  11891, -11204,   5391,  -6406,   4303,  -2888,  10858, -25701,\n",
       "          16977],\n",
       "        [  3059,   9240,   7874,  14940, -11241,   7371, -10035,  -2522, -13980,\n",
       "           5813],\n",
       "        [   432,   7946, -12631,  -4632,  -6783,   9721,  -1568,   8453, -20867,\n",
       "           -216]])\n",
       "\tplain_text=HIDDEN\n",
       "\tptype=ptype.arithmetic\n",
       ")"
      ]
     },
     "execution_count": 13,
     "metadata": {},
     "output_type": "execute_result"
    }
   ],
   "source": [
    "model(images_enc)"
   ]
  },
  {
   "cell_type": "markdown",
   "metadata": {},
   "source": [
    "### Train Model on Encrypted Images"
   ]
  },
  {
   "cell_type": "code",
   "execution_count": 14,
   "metadata": {},
   "outputs": [],
   "source": [
    "def train_model(model, X, y, epochs=10, learning_rate=0.05):\n",
    "    criterion = crypten.nn.CrossEntropyLoss()\n",
    "\n",
    "    for epoch in range(epochs):\n",
    "        model.zero_grad()\n",
    "        output = model(X)\n",
    "        loss = criterion(output, y)\n",
    "        print(f\"epoch {epoch} loss: {loss.get_plain_text()}\")\n",
    "        loss.backward()\n",
    "        model.update_parameters(learning_rate)\n",
    "    return model"
   ]
  },
  {
   "cell_type": "code",
   "execution_count": 15,
   "metadata": {},
   "outputs": [
    {
     "name": "stdout",
     "output_type": "stream",
     "text": [
      "epoch 0 loss: 2.3475341796875\n",
      "epoch 1 loss: 2.243408203125\n",
      "epoch 2 loss: 2.1518096923828125\n",
      "epoch 3 loss: 2.0686492919921875\n",
      "epoch 4 loss: 1.9932098388671875\n",
      "epoch 5 loss: 1.922882080078125\n",
      "epoch 6 loss: 1.857452392578125\n",
      "epoch 7 loss: 1.79583740234375\n",
      "epoch 8 loss: 1.7375640869140625\n",
      "epoch 9 loss: 1.6826324462890625\n"
     ]
    }
   ],
   "source": [
    "model = train_model(model, images_enc, labels_enc)"
   ]
  },
  {
   "cell_type": "markdown",
   "metadata": {},
   "source": [
    "### Decrypt Prediction"
   ]
  },
  {
   "cell_type": "code",
   "execution_count": 16,
   "metadata": {},
   "outputs": [],
   "source": [
    "prediction = model(images_enc[3].unsqueeze(0))"
   ]
  },
  {
   "cell_type": "code",
   "execution_count": 17,
   "metadata": {},
   "outputs": [
    {
     "data": {
      "text/plain": [
       "tensor(1)"
      ]
     },
     "execution_count": 17,
     "metadata": {},
     "output_type": "execute_result"
    }
   ],
   "source": [
    "prediction.get_plain_text().argmax()"
   ]
  },
  {
   "cell_type": "code",
   "execution_count": 18,
   "metadata": {},
   "outputs": [
    {
     "data": {
      "text/plain": [
       "<matplotlib.image.AxesImage at 0x7fd1ea201e90>"
      ]
     },
     "execution_count": 18,
     "metadata": {},
     "output_type": "execute_result"
    },
    {
     "data": {
      "image/png": "[encoded data removed]",
      "text/plain": [
       "<Figure size 432x288 with 1 Axes>"
      ]
     },
     "metadata": {
      "needs_background": "light"
     },
     "output_type": "display_data"
    }
   ],
   "source": [
    "plt.imshow(images[3, 0], cmap='gray', interpolation='none')"
   ]
  },
  {
   "cell_type": "markdown",
   "metadata": {},
   "source": [
    "### Test Model Accuracy"
   ]
  },
  {
   "cell_type": "code",
   "execution_count": 19,
   "metadata": {},
   "outputs": [],
   "source": [
    "def avg_test_accuracy(model, X, y):    \n",
    "    output = model(X).get_plain_text().softmax(0)\n",
    "    predicted = output.argmax(1)\n",
    "    labels = y.get_plain_text().argmax(1)\n",
    "    correct = (predicted == labels).sum().float()\n",
    "    return float(correct / y.shape[0])"
   ]
  },
  {
   "cell_type": "code",
   "execution_count": 20,
   "metadata": {},
   "outputs": [
    {
     "data": {
      "text/plain": [
       "0.8799999952316284"
      ]
     },
     "execution_count": 20,
     "metadata": {},
     "output_type": "execute_result"
    }
   ],
   "source": [
    "avg_test_accuracy(model, images_enc, labels_enc)"
   ]
  },
  {
   "cell_type": "markdown",
   "metadata": {},
   "source": [
    "## Training a CNN"
   ]
  },
  {
   "cell_type": "markdown",
   "metadata": {},
   "source": [
    "based on https://github.com/pytorch/examples/blob/master/mnist/main.py"
   ]
  },
  {
   "cell_type": "code",
   "execution_count": 21,
   "metadata": {},
   "outputs": [],
   "source": [
    "class CNN(crypten.nn.Module):\n",
    "    def __init__(self):\n",
    "        super().__init__()\n",
    "        self.conv1 = crypten.nn.Conv2d(1, 32, 3, 1)\n",
    "        self.conv2 = crypten.nn.Conv2d(32, 64, 3, 1)\n",
    "        self.dropout1 = crypten.nn.Dropout2d(0.25)\n",
    "        self.dropout2 = crypten.nn.Dropout2d(0.5)\n",
    "        self.fc1 = crypten.nn.Linear(9216, 128)\n",
    "        self.fc2 = crypten.nn.Linear(128, 10)\n",
    "\n",
    "    def forward(self, x):\n",
    "        x = self.conv1(x)\n",
    "        x = x.relu()\n",
    "        x = self.conv2(x)\n",
    "        x = x.relu()\n",
    "        x = x.max_pool2d(2)\n",
    "        x = self.dropout1(x)\n",
    "        x = x.flatten(start_dim=1)\n",
    "        x = self.fc1(x)\n",
    "        x = x.relu()\n",
    "        x = self.dropout2(x)\n",
    "        x = self.fc2(x)\n",
    "        return x"
   ]
  },
  {
   "cell_type": "code",
   "execution_count": 22,
   "metadata": {},
   "outputs": [],
   "source": [
    "model = CNN().encrypt()"
   ]
  },
  {
   "cell_type": "code",
   "execution_count": 23,
   "metadata": {},
   "outputs": [
    {
     "name": "stdout",
     "output_type": "stream",
     "text": [
      "torch.Size([100, 1, 28, 28])\n",
      "torch.Size([1, 1, 28, 28])\n"
     ]
    },
    {
     "data": {
      "text/plain": [
       "MPCTensor(\n",
       "\t_tensor=tensor([[ 2551,  4465,  1717, -1723,   966, -7681,   494,  -457,   411,  3919]])\n",
       "\tplain_text=HIDDEN\n",
       "\tptype=ptype.arithmetic\n",
       ")"
      ]
     },
     "execution_count": 23,
     "metadata": {},
     "output_type": "execute_result"
    }
   ],
   "source": [
    "print(images_enc.size())\n",
    "x = images_enc[0].view(1, 1, 28, 28)\n",
    "print(x.shape)\n",
    "model(x)"
   ]
  },
  {
   "cell_type": "code",
   "execution_count": 24,
   "metadata": {},
   "outputs": [
    {
     "name": "stdout",
     "output_type": "stream",
     "text": [
      "epoch 0 loss: 2.272796630859375\n",
      "epoch 1 loss: 2.2662353515625\n",
      "epoch 2 loss: 2.2158050537109375\n"
     ]
    }
   ],
   "source": [
    "model = train_model(model, images_enc[:10, ], labels_enc[:10,], epochs=3)"
   ]
  },
  {
   "cell_type": "code",
   "execution_count": 25,
   "metadata": {},
   "outputs": [],
   "source": [
    "prediction = model(images_enc[3].unsqueeze(0)).argmax()"
   ]
  },
  {
   "cell_type": "markdown",
   "metadata": {},
   "source": [
    "# Importing PyTorch Models"
   ]
  },
  {
   "cell_type": "code",
   "execution_count": 26,
   "metadata": {},
   "outputs": [],
   "source": [
    "import torch.nn as nn\n",
    "import torch.nn.functional as F\n",
    "\n",
    "\n",
    "class PyTorchModel(nn.Module):\n",
    "    def __init__(self):\n",
    "        super().__init__()\n",
    "        self.conv1 = nn.Conv2d(1, 32, 3, 1)\n",
    "        self.conv2 = nn.Conv2d(32, 64, 3, 1)\n",
    "        self.dropout1 = nn.Dropout(0.5)\n",
    "        self.dropout2 = nn.Dropout(0.5)\n",
    "        self.fc1 = nn.Linear(9216, 128)\n",
    "        self.fc2 = nn.Linear(128, 10)\n",
    "\n",
    "    def forward(self, x):\n",
    "        x = self.conv1(x)\n",
    "        x = F.relu(x)\n",
    "        x = self.conv2(x)\n",
    "        x = F.relu(x)\n",
    "        x = F.max_pool2d(x, 2)\n",
    "        x = self.dropout1(x)\n",
    "        x = torch.flatten(x, 1)\n",
    "        x = self.fc1(x)\n",
    "        x = F.relu(x)\n",
    "        x = self.dropout2(x)\n",
    "        x = self.fc2(x)\n",
    "        output = F.log_softmax(x, dim=1)\n",
    "        return output"
   ]
  },
  {
   "cell_type": "code",
   "execution_count": 27,
   "metadata": {},
   "outputs": [],
   "source": [
    "pytorch_model = PyTorchModel()"
   ]
  },
  {
   "cell_type": "code",
   "execution_count": 28,
   "metadata": {},
   "outputs": [
    {
     "name": "stderr",
     "output_type": "stream",
     "text": [
      "/Users/brianknott/Desktop/CrypTen/crypten/nn/onnx_converter.py:161: UserWarning: The given NumPy array is not writeable, and PyTorch does not support non-writeable tensors. This means you can write to the underlying (supposedly non-writeable) NumPy array using the tensor. You may want to copy the array to protect its data or make it writeable before converting it to a tensor. This type of warning will be suppressed for the rest of this program. (Triggered internally at  /Users/distiller/project/conda/conda-bld/pytorch_1616554799287/work/torch/csrc/utils/tensor_numpy.cpp:143.)\n",
      "  param = torch.from_numpy(numpy_helper.to_array(node))\n"
     ]
    },
    {
     "data": {
      "text/plain": [
       "Graph encrypted module"
      ]
     },
     "execution_count": 28,
     "metadata": {},
     "output_type": "execute_result"
    }
   ],
   "source": [
    "dummy_input = torch.empty(images.shape)\n",
    "crypten_model = crypten.nn.from_pytorch(pytorch_model, dummy_input)\n",
    "crypten_model.encrypt()"
   ]
  },
  {
   "cell_type": "code",
   "execution_count": 29,
   "metadata": {},
   "outputs": [
    {
     "name": "stdout",
     "output_type": "stream",
     "text": [
      "MPCTensor(\n",
      "\t_tensor=tensor([[-156495, -149670, -157653, -148411, -152466, -145310, -148855, -147026,\n",
      "         -149449, -149893]])\n",
      "\tplain_text=HIDDEN\n",
      "\tptype=ptype.arithmetic\n",
      ")\n"
     ]
    }
   ],
   "source": [
    "prediction = crypten_model(images_enc[3].unsqueeze(0))\n",
    "print(prediction)"
   ]
  },
  {
   "cell_type": "code",
   "execution_count": 30,
   "metadata": {},
   "outputs": [
    {
     "name": "stdout",
     "output_type": "stream",
     "text": [
      "tensor([[-2.3879, -2.2838, -2.4056, -2.2646, -2.3264, -2.2173, -2.2713, -2.2434,\n",
      "         -2.2804, -2.2872]])\n"
     ]
    }
   ],
   "source": [
    "print(prediction.get_plain_text())"
   ]
  },
  {
   "cell_type": "code",
   "execution_count": 31,
   "metadata": {},
   "outputs": [
    {
     "data": {
      "text/plain": [
       "tensor(5)"
      ]
     },
     "execution_count": 31,
     "metadata": {},
     "output_type": "execute_result"
    }
   ],
   "source": [
    "prediction.get_plain_text().argmax()"
   ]
  },
  {
   "cell_type": "code",
   "execution_count": 32,
   "metadata": {},
   "outputs": [
    {
     "name": "stdout",
     "output_type": "stream",
     "text": [
      "epoch 0 loss: 2.3539276123046875\n",
      "epoch 1 loss: 2.28973388671875\n",
      "epoch 2 loss: 2.2553558349609375\n"
     ]
    }
   ],
   "source": [
    "crypten_model = train_model(crypten_model, images_enc[:10, ], labels_enc[:10,], epochs=3)"
   ]
  }
 ],
 "metadata": {
  "kernelspec": {
   "display_name": "Python 3",
   "language": "python",
   "name": "python3"
  },
  "language_info": {
   "codemirror_mode": {
    "name": "ipython",
    "version": 3
   },
   "file_extension": ".py",
   "mimetype": "text/x-python",
   "name": "python",
   "nbconvert_exporter": "python",
   "pygments_lexer": "ipython3",
   "version": "3.7.9"
  }
 },
 "nbformat": 4,
 "nbformat_minor": 4
}
