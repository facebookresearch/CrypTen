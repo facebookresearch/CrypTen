{
 "cells": [
  {
   "cell_type": "markdown",
   "metadata": {},
   "source": [
    "# Under the Hood of Encrypted Neural Networks\n",
    "\n",
    "This tutorial is optional, and can be skipped without loss of continuity.\n",
    "\n",
    "In this tutorial, we'll take a look at how CrypTen performs inference with an encrypted neural network on encrypted data. We'll see how the data remains encrypted through all the operations, and yet is able to obtain accurate results after the computation. "
   ]
  },
  {
   "cell_type": "code",
   "execution_count": 1,
   "metadata": {},
   "outputs": [],
   "source": [
    "import crypten\n",
    "import torch\n",
    "\n",
    "crypten.init() \n",
    "torch.set_num_threads(1)\n",
    "\n",
    "# Ignore warnings\n",
    "import warnings; \n",
    "warnings.filterwarnings(\"ignore\")\n",
    "\n",
    "# Keep track of all created temporary files so that we can clean up at the end\n",
    "temp_files = []"
   ]
  },
  {
   "cell_type": "markdown",
   "metadata": {},
   "source": [
    "## A Simple Linear Layer\n",
    "We'll start by examining how a single Linear layer works in CrypTen. We'll instantiate a torch Linear layer, convert to CrypTen layer, encrypt it, and step through some toy data with it. As in earlier tutorials, we'll assume Alice has the rank 0 process and Bob has the rank 1 process. We'll also assume Alice has the layer and Bob has the data."
   ]
  },
  {
   "cell_type": "code",
   "execution_count": 2,
   "metadata": {},
   "outputs": [],
   "source": [
    "# Define ALICE and BOB src values\n",
    "ALICE = 0\n",
    "BOB = 1"
   ]
  },
  {
   "cell_type": "code",
   "execution_count": 3,
   "metadata": {},
   "outputs": [
    {
     "name": "stdout",
     "output_type": "stream",
     "text": [
      "Plaintext Weights:\n",
      "\n",
      " Parameter containing:\n",
      "tensor([[-0.4245, -0.0795,  0.0888, -0.2381],\n",
      "        [-0.0274,  0.1489, -0.3528,  0.1833]], requires_grad=True)\n",
      "\n",
      "Plaintext Bias:\n",
      "\n",
      " Parameter containing:\n",
      "tensor([0.2565, 0.1479], requires_grad=True)\n"
     ]
    }
   ],
   "source": [
    "import torch.nn as nn\n",
    "\n",
    "# Instantiate single Linear layer\n",
    "layer_linear = nn.Linear(4, 2)\n",
    "\n",
    "# The weights and the bias are initialized to small random values\n",
    "print(\"Plaintext Weights:\\n\\n\", layer_linear._parameters['weight'])\n",
    "print(\"\\nPlaintext Bias:\\n\\n\", layer_linear._parameters['bias'])\n",
    "\n",
    "# Save the plaintext layer\n",
    "layer_linear_file = \"/tmp/tutorial5_layer_alice1.pth\"\n",
    "crypten.save(layer_linear, layer_linear_file)\n",
    "temp_files.append(layer_linear_file) \n",
    "\n",
    "# Generate some toy data\n",
    "features = 4\n",
    "examples = 3\n",
    "toy_data = torch.rand(examples, features)\n",
    "\n",
    "# Save the plaintext toy data\n",
    "toy_data_file = \"/tmp/tutorial5_data_bob1.pth\"\n",
    "crypten.save(toy_data, toy_data_file)\n",
    "temp_files.append(toy_data_file)"
   ]
  },
  {
   "cell_type": "code",
   "execution_count": 4,
   "metadata": {},
   "outputs": [
    {
     "name": "stdout",
     "output_type": "stream",
     "text": [
      "Weights:\n",
      " tensor([[-2779169567364893623, -2232732908274070329,   838245686869590889,\n",
      "          4704329639350969309],\n",
      "        [-5331136441107481971,    -5640273729648733,   220733205746483119,\n",
      "          5340719636968147588]])\n",
      "Bias:\n",
      " tensor([-7224333083982678535, -1822572409998471140]) \n",
      "\n",
      "Decrypted result:\n",
      " tensor([[-0.0532,  0.2761],\n",
      "        [-0.0558,  0.1740],\n",
      "        [ 0.0027,  0.1341]])\n"
     ]
    },
    {
     "data": {
      "text/plain": [
       "[None, None]"
      ]
     },
     "execution_count": 4,
     "metadata": {},
     "output_type": "execute_result"
    }
   ],
   "source": [
    "import crypten.mpc as mpc\n",
    "import crypten.communicator as comm\n",
    "\n",
    "@mpc.run_multiprocess(world_size=2)\n",
    "def forward_single_encrypted_layer():\n",
    "    # Load and encrypt the layer\n",
    "    layer = crypten.load_from_party(layer_linear_file, src=ALICE)\n",
    "    layer_enc = crypten.nn.from_pytorch(layer, dummy_input=torch.empty((1,4)))\n",
    "    layer_enc.encrypt(src=ALICE)\n",
    "    \n",
    "    # Note that layer parameters are encrypted:\n",
    "    crypten.print(\"Weights:\\n\", layer_enc.weight.share)\n",
    "    crypten.print(\"Bias:\\n\", layer_enc.bias.share, \"\\n\")\n",
    "    \n",
    "    # Load and encrypt data\n",
    "    data_enc = crypten.load_from_party(toy_data_file, src=BOB)\n",
    "    \n",
    "    # Apply the encrypted layer (linear transformation):\n",
    "    result_enc = layer_enc.forward(data_enc)\n",
    "    \n",
    "    # Decrypt the result:\n",
    "    result = result_enc.get_plain_text()\n",
    "    \n",
    "    # Examine the result\n",
    "    crypten.print(\"Decrypted result:\\n\", result)\n",
    "        \n",
    "forward_single_encrypted_layer()"
   ]
  },
  {
   "cell_type": "markdown",
   "metadata": {},
   "source": [
    "We can see that the application of the encrypted linear layer on the encrypted data produces an encrypted result, which we can then decrypt to get the values in plaintext.\n",
    "\n",
    "Let's look at a second linear transformation, to give a flavor of how accuracy is preserved even when the data and the layer are encrypted. We'll look at a uniform scaling transformation, in which all tensor elements are multiplied by the same scalar factor. Again, we'll assume Alice has the layer and the rank 0 process, and Bob has the data and the rank 1 process."
   ]
  },
  {
   "cell_type": "code",
   "execution_count": 5,
   "metadata": {},
   "outputs": [],
   "source": [
    "# Initialize a linear layer with random weights\n",
    "layer_scale = nn.Linear(3, 3)\n",
    "\n",
    "# Construct a uniform scaling matrix: we'll scale by factor 5\n",
    "factor = 5\n",
    "layer_scale._parameters['weight'] = torch.eye(3)*factor\n",
    "layer_scale._parameters['bias'] = torch.zeros_like(layer_scale._parameters['bias'])\n",
    "\n",
    "# Save the plaintext layer\n",
    "layer_scale_file = \"/tmp/tutorial5_layer_alice2.pth\"\n",
    "crypten.save(layer_scale, layer_scale_file)\n",
    "temp_files.append(layer_scale_file)\n",
    "\n",
    "# Construct some toy data\n",
    "features = 3\n",
    "examples = 2\n",
    "toy_data = torch.ones(examples, features)\n",
    "\n",
    "# Save the plaintext toy data\n",
    "toy_data_file = \"/tmp/tutorial5_data_bob2.pth\"\n",
    "crypten.save(toy_data, toy_data_file)\n",
    "temp_files.append(toy_data_file)"
   ]
  },
  {
   "cell_type": "code",
   "execution_count": 6,
   "metadata": {},
   "outputs": [
    {
     "name": "stdout",
     "output_type": "stream",
     "text": [
      "Weights:\n",
      " tensor([[-8126813506369324184,   187754861994301513,  3089634648705285350],\n",
      "        [-7775830133718306766, -5856713117977728009,  2800383075140412631],\n",
      "        [-8426599574640186811,  4983920635817181629, -2303964401944407168]])\n",
      "Bias:\n",
      " tensor([6085902202843702533, 5479720939740600135,  253379192834755980])\n",
      "\n",
      "Plaintext result:\n",
      " tensor([[5., 5., 5.],\n",
      "        [5., 5., 5.]])\n"
     ]
    }
   ],
   "source": [
    "@mpc.run_multiprocess(world_size=2)\n",
    "def forward_scaling_layer():\n",
    "    rank = comm.get().get_rank()\n",
    "    \n",
    "    # Load and encrypt the layer\n",
    "    layer = crypten.load_from_party(layer_scale_file, src=ALICE)\n",
    "    layer_enc = crypten.nn.from_pytorch(layer, dummy_input=torch.empty((1,3)))\n",
    "    layer_enc.encrypt(src=ALICE)\n",
    "    \n",
    "    # Load and encrypt data\n",
    "    data_enc = crypten.load(toy_data_file, src=BOB)   \n",
    "    \n",
    "    # Note that layer parameters are (still) encrypted:\n",
    "    if rank == 0:  # Print once for readability\n",
    "        print(\"Weights:\\n\", layer_enc.weight.share)\n",
    "        print(\"Bias:\\n\", layer_enc.bias.share)\n",
    "        print()\n",
    "\n",
    "    # Apply the encrypted scaling transformation\n",
    "    result_enc = layer_enc.forward(data_enc)\n",
    "\n",
    "    # Decrypt the result:\n",
    "    result = result_enc.get_plain_text()\n",
    "    \n",
    "    # Since both parties have the same decrypted values, print only rank 0 for readability\n",
    "    if rank == 0:\n",
    "        print(\"Plaintext result:\\n\", (result))\n",
    "        \n",
    "z = forward_scaling_layer()"
   ]
  },
  {
   "cell_type": "markdown",
   "metadata": {},
   "source": [
    "The resulting plaintext tensor is correctly scaled, even though we applied the encrypted transformation on the encrypted input! "
   ]
  },
  {
   "cell_type": "markdown",
   "metadata": {},
   "source": [
    "## Multi-layer Neural Networks\n",
    "Let's now look at how the encrypted input moves through an encrypted multi-layer neural network. \n",
    "\n",
    "For ease of explanation, we'll first step through a network with only two linear layers and ReLU activations. Again, we'll assume Alice has a network and Bob has some data, and they wish to run encrypted inference. \n",
    "\n",
    "To simulate this, we'll once again generate some toy data and train Alice's network on it. Then we'll encrypt Alice's network, Bob's data, and step through every layer in the network with the encrypted data. Through this, we'll see how the computations get applied although the network and the data are encrypted.\n",
    "\n",
    "### Setup\n",
    "As in Tutorial 3, we will first generate 1000 ground truth samples using 50 features and a randomly generated hyperplane to separate positive and negative examples. We will then modify the labels so that they are all non-negative. Finally, we will split the data so that the first 900 samples belong to Alice and the last 100 samples belong to Bob."
   ]
  },
  {
   "cell_type": "code",
   "execution_count": 7,
   "metadata": {},
   "outputs": [],
   "source": [
    "# Setup\n",
    "features = 50\n",
    "examples = 1000\n",
    "\n",
    "# Set random seed for reproducibility\n",
    "torch.manual_seed(1)\n",
    "\n",
    "# Generate toy data and separating hyperplane\n",
    "data = torch.randn(examples, features)\n",
    "w_true = torch.randn(1, features)\n",
    "b_true = torch.randn(1)\n",
    "labels = w_true.matmul(data.t()).add(b_true).sign()\n",
    "\n",
    "# Change labels to non-negative values\n",
    "labels_nn = torch.where(labels==-1, torch.zeros(labels.size()), labels)\n",
    "labels_nn = labels_nn.squeeze().long()\n",
    "\n",
    "# Split data into Alice's and Bob's portions:\n",
    "data_alice, labels_alice = data[:900], labels_nn[:900]\n",
    "data_bob, labels_bob = data[900:], labels_nn[900:]"
   ]
  },
  {
   "cell_type": "code",
   "execution_count": 8,
   "metadata": {},
   "outputs": [],
   "source": [
    "# Define Alice's network\n",
    "import torch.nn as nn\n",
    "import torch.nn.functional as F\n",
    "\n",
    "class AliceNet(nn.Module):\n",
    "    def __init__(self):\n",
    "        super(AliceNet, self).__init__()\n",
    "        self.fc1 = nn.Linear(50, 20)\n",
    "        self.fc2 = nn.Linear(20, 2)\n",
    "        \n",
    "    def forward(self, x):\n",
    "        out = self.fc1(x)\n",
    "        out = F.relu(out)\n",
    "        out = self.fc2(out)\n",
    "        return out"
   ]
  },
  {
   "cell_type": "code",
   "execution_count": 9,
   "metadata": {},
   "outputs": [
    {
     "name": "stdout",
     "output_type": "stream",
     "text": [
      "Epoch 99 Loss: 0.24704290926456451\n",
      "Epoch 199 Loss: 0.08965438604354858\n",
      "Epoch 299 Loss: 0.05166155472397804\n",
      "Epoch 399 Loss: 0.03510778397321701\n",
      "Epoch 499 Loss: 0.026072457432746887\n"
     ]
    }
   ],
   "source": [
    "# Train and save Alice's network\n",
    "model = AliceNet()\n",
    "criterion = nn.CrossEntropyLoss()\n",
    "optimizer = torch.optim.SGD(model.parameters(), lr=0.1)\n",
    "\n",
    "for i in range(500):  \n",
    "    #forward pass: compute prediction\n",
    "    output = model(data_alice)\n",
    "    \n",
    "    #compute and print loss\n",
    "    loss = criterion(output, labels_alice)\n",
    "    if i % 100 == 99:\n",
    "        print(\"Epoch\", i, \"Loss:\", loss.item())\n",
    "    \n",
    "    #zero gradients for learnable parameters\n",
    "    optimizer.zero_grad()\n",
    "    \n",
    "    #backward pass: compute gradient with respect to model parameters\n",
    "    loss.backward()\n",
    "    \n",
    "    #update model parameters\n",
    "    optimizer.step()\n",
    "\n",
    "sample_trained_model_file = '/tmp/tutorial5_alice_model.pth'\n",
    "torch.save(model, sample_trained_model_file)\n",
    "temp_files.append(sample_trained_model_file)"
   ]
  },
  {
   "cell_type": "markdown",
   "metadata": {},
   "source": [
    "### Stepping through a Multi-layer Network\n",
    "\n",
    "Let's now look at what happens when we load the network Alice's has trained and encrypt it. First, we'll look at how the network structure changes when we convert it from a PyTorch network to CrypTen network."
   ]
  },
  {
   "cell_type": "code",
   "execution_count": 10,
   "metadata": {},
   "outputs": [
    {
     "name": "stdout",
     "output_type": "stream",
     "text": [
      "Name: 5 \tModule: Linear encrypted module\n",
      "Name: 6 \tModule: ReLU encrypted module\n",
      "Name: output \tModule: Linear encrypted module\n"
     ]
    }
   ],
   "source": [
    "# Load the trained network to Alice\n",
    "model_plaintext = crypten.load(sample_trained_model_file, model_class=AliceNet, src=ALICE)\n",
    "\n",
    "# Convert the trained network to CrypTen network \n",
    "private_model = crypten.nn.from_pytorch(model_plaintext, dummy_input=torch.empty((1, 50)))\n",
    "# Encrypt the network\n",
    "private_model.encrypt(src=ALICE)\n",
    "\n",
    "# Examine the structure of the encrypted CrypTen network\n",
    "for name, curr_module in private_model._modules.items():\n",
    "    print(\"Name:\", name, \"\\tModule:\", curr_module)"
   ]
  },
  {
   "cell_type": "markdown",
   "metadata": {},
   "source": [
    "We see that the encrypted network has 3 modules, named '5', '6' and 'output', denoting the first Linear layer, the ReLU activation, and the second Linear layer respectively. These modules are encrypted just as the layers in the previous section were. \n",
    "\n",
    "Now let's encrypt Bob's data, and step it through each encrypted module. For readability, we will use only 3 examples from Bob's data to illustrate the inference. Note how Bob's data remains encrypted after each individual layer's computation!"
   ]
  },
  {
   "cell_type": "code",
   "execution_count": 11,
   "metadata": {},
   "outputs": [],
   "source": [
    "# Pre-processing: Select only the first three examples in Bob's data for readability\n",
    "data = data_bob[:3]\n",
    "sample_data_bob_file = '/tmp/tutorial5_data_bob3.pth'\n",
    "torch.save(data, sample_data_bob_file)\n",
    "temp_files.append(sample_data_bob_file)"
   ]
  },
  {
   "cell_type": "code",
   "execution_count": 12,
   "metadata": {},
   "outputs": [
    {
     "name": "stdout",
     "output_type": "stream",
     "text": [
      "Registering __main__.AliceNet class as safe for deserialization.\n",
      "Rank: 0 First Linear Layer: Output Encrypted: True\n",
      "\n",
      "Rank: 1 First Linear Layer: Output Encrypted: True\n",
      "\n",
      "Rank: 0 Shares after First Linear Layer:tensor([[  514764742782094213, -1310291025797639962,  5765651176965976478,\n",
      "          5619518627709579173, -2346262939928038493,  2714659845459650449,\n",
      "         -3006155409637966777,  6918130301594670270, -1489656898984933153,\n",
      "          2775946721857991924,  -880648211836976282, -6597991164329682300,\n",
      "         -3847739037579401177,  6279458832667197282, -7132861408013389483,\n",
      "          8601352407330018510, -6562471170471673451,  4695059791675707038,\n",
      "          9125687315645764795, -1529001258082196949],\n",
      "        [  514777810982701347, -1310271117473401674,  5765442996892254423,\n",
      "          5619509201801932810, -2346467658347581491,  2714683235823861597,\n",
      "         -3006078842331900281,  6917988931746067777, -1489805983072653044,\n",
      "          2776067971131306330,  -880774313020116291, -6598025370449218909,\n",
      "         -3847797862425193633,  6279258212689433033, -7132714991307572876,\n",
      "          8601258590229548377, -6562494127200801313,  4694862774646162701,\n",
      "          9125831748056507345, -1529065352711260598],\n",
      "        [  514922750254056901, -1310141256623418586,  5765657361590507353,\n",
      "          5619639127411866215, -2346317342176047398,  2714656363838613601,\n",
      "         -3006191920888445525,  6917931169196264425, -1489615886475520708,\n",
      "          2775955983073218737,  -880790669680329728, -6598072958773711980,\n",
      "         -3847589475117383812,  6279227500400846269, -7132849421945373658,\n",
      "          8601214399002405645, -6562464157404634331,  4694923341354232832,\n",
      "          9125788306111256115, -1529053520136915298]])\n",
      "\n",
      "Rank: 1 Shares after First Linear Layer:tensor([[ -514764742782095538,  1310291025797635396, -5765651176965981395,\n",
      "         -5619518627709560564,  2346262939928055082, -2714659845459697138,\n",
      "          3006155409637977176, -6918130301594647764,  1489656898984956802,\n",
      "         -2775946721857988096,   880648211836986492,  6597991164329694301,\n",
      "          3847739037579498911, -6279458832667245016,  7132861408013467316,\n",
      "         -8601352407329999106,  6562471170471716180, -4695059791675711472,\n",
      "         -9125687315645830074,  1529001258082180301],\n",
      "        [ -514777810982633044,  1310271117473352536, -5765442996892179230,\n",
      "         -5619509201801928524,  2346467658347592894, -2714683235823914756,\n",
      "          3006078842331934988, -6917988931745992150,  1489805983072666994,\n",
      "         -2776067971131374101,   880774313020075495,  6598025370449258072,\n",
      "          3847797862425109692, -6279258212689438982,  7132714991307641111,\n",
      "         -8601258590229583191,  6562494127200816860, -4694862774646194817,\n",
      "         -9125831748056533706,  1529065352711377781],\n",
      "        [ -514922750254059064,  1310141256623458018, -5765657361590355212,\n",
      "         -5619639127411776894,  2346317342176024844, -2714656363838618645,\n",
      "          3006191920888420067, -6917931169196180431,  1489615886475504714,\n",
      "         -2775955983073143358,   880790669680413872,  6598072958773685058,\n",
      "          3847589475117281614, -6279227500400889908,  7132849421945270870,\n",
      "         -8601214399002496112,  6562464157404534454, -4694923341354239999,\n",
      "         -9125788306111193504,  1529053520136895588]])\n",
      "\n",
      "Rank: 0 ReLU:\n",
      " Output Encrypted: True\n",
      "\n",
      "Rank: 1 ReLU:\n",
      " Output Encrypted: True\n",
      "\n",
      "Rank: 0 Shares after ReLU: tensor([[-112013287993500,    5766593755008,  -51603805796162,  110256706788350,\n",
      "             796694667818,  -91866698532863,  110865857028518,   46435229136011,\n",
      "          -20782939346377,   48643533759082,  -35191357147760,  116893493390171,\n",
      "         -138964426419811,   -2536273610788, -129058340902039,  108570478035421,\n",
      "          -66165941937825,  -90817493755277,   31673130395969, -134326628727335],\n",
      "        [ 130097926022288,  -54381680639922,  -58780660732488,  -77255989152551,\n",
      "          103044498114543, -109657674888008,  -94437723826827, -136057043290542,\n",
      "         -134958933792988, -127082777504488,   62127839121354, -117036079123185,\n",
      "           72007128652979,  -43156278934835,   75957030703732,    8668599969276,\n",
      "         -131522775696730,  -16734690275151,  103819635522490,  -67574033256888],\n",
      "        [ -83460810672448,  -15182658787863,  -79433688943578, -123528526512518,\n",
      "          -47964835191385,  126397048391360,  -43840099391727,   19515759638368,\n",
      "          -85189962273706,  -46411138342788,  -82242780771410,  121741581642824,\n",
      "         -133770381984274,  -73497334717955,   -6485695701552,   21049462309261,\n",
      "          139366940245921,  -90191215012549,   29649232199894,  -12326645573631]])\n",
      "\n",
      "Rank: 1 Shares after ReLU: tensor([[ 112013287993500,   -5766593755008,   51603805796162, -110256706769741,\n",
      "            -796694651229,   91866698532863, -110865857018119,  -46435229113505,\n",
      "           20782939370026,  -48643533755254,   35191357157970, -116893493378170,\n",
      "          138964426517545,    2536273610788,  129058340979872, -108570478016017,\n",
      "           66165941980554,   90817493755277,  -31673130395969,  134326628727335],\n",
      "        [-130097925953985,   54381680639922,   58780660807681,   77255989156837,\n",
      "         -103044498103140,  109657674888008,   94437723861534,  136057043366169,\n",
      "          134958933806938,  127082777504488,  -62127839121354,  117036079162348,\n",
      "          -72007128652979,   43156278934835,  -75957030635497,   -8668599969276,\n",
      "          131522775712277,   16734690275151, -103819635522490,   67574033374071],\n",
      "        [  83460810672448,   15182658827295,   79433689095719,  123528526601839,\n",
      "           47964835191385, -126397048391360,   43840099391727,  -19515759554374,\n",
      "           85189962273706,   46411138418167,   82242780855554, -121741581642824,\n",
      "          133770381984274,   73497334717955,    6485695701552,  -21049462309261,\n",
      "         -139366940245921,   90191215012549,  -29649232137283,   12326645573631]])\n",
      "\n",
      "Rank: 0 Second Linear layer:\n",
      " Output Encrypted: True\n",
      "\n",
      "Rank: 1 Second Linear layer:\n",
      " Output Encrypted: True\n",
      "\n",
      "Rank: 0 Shares after Second Linear layer:tensor([[8698056009748336986, 2735216401557873516],\n",
      "        [8698054236377356253, 2735347166781671343],\n",
      "        [8698235760263357174, 2735232716268175490]])\n",
      "\n",
      "Rank: 1 Shares after Second Linear layer:tensor([[-8698056009748509685, -2735216401557704024],\n",
      "        [-8698054236377216229, -2735347166781757295],\n",
      "        [-8698235760263071040, -2735232716268398863]])\n",
      "\n",
      "Decrypted output:\n",
      " Output Encrypted: False\n",
      "Tensors:\n",
      " tensor([[-2.6352,  2.5862],\n",
      "        [ 2.1366, -1.3115],\n",
      "        [ 4.3661, -3.4084]])\n"
     ]
    }
   ],
   "source": [
    "@mpc.run_multiprocess(world_size=2)\n",
    "def step_through_two_layers():    \n",
    "    rank = comm.get().get_rank()\n",
    "\n",
    "    # Load and encrypt the network\n",
    "    model = crypten.load_from_party(sample_trained_model_file, model_class=AliceNet, src=ALICE)\n",
    "    private_model = crypten.nn.from_pytorch(model, dummy_input=torch.empty((1, 50)))\n",
    "    private_model.encrypt(src=ALICE)\n",
    "\n",
    "    # Load and encrypt the data\n",
    "    data_enc = crypten.load(sample_data_bob_file, src=BOB)\n",
    "\n",
    "    # Forward through the first layer\n",
    "    out_enc = private_model._modules['5'].forward(data_enc)\n",
    "    crypten.print_in_order(\"Rank: {} First Linear Layer: Output Encrypted: {}\\n\".format(rank, crypten.is_encrypted_tensor(out_enc)))\n",
    "    crypten.print_in_order(\"Rank: {} Shares after First Linear Layer:{}\\n\".format(rank, out_enc.share))\n",
    "\n",
    "    # Apply ReLU activation\n",
    "    out_enc = private_model._modules['6'].forward(out_enc)\n",
    "    crypten.print_in_order(\"Rank: {} ReLU:\\n Output Encrypted: {}\\n\".format(rank, crypten.is_encrypted_tensor(out_enc)))\n",
    "    crypten.print_in_order(\"Rank: {} Shares after ReLU: {}\\n\".format(rank, out_enc.share))\n",
    "\n",
    "    # Forward through the second Linear layer\n",
    "    out_enc = private_model._modules['output'].forward(out_enc)\n",
    "    crypten.print_in_order(\"Rank: {} Second Linear layer:\\n Output Encrypted: {}\\n\".format(rank, crypten.is_encrypted_tensor(out_enc))), \n",
    "    crypten.print_in_order(\"Rank: {} Shares after Second Linear layer:{}\\n\".format(rank, out_enc.share))\n",
    "\n",
    "    # Decrypt the output\n",
    "    out_dec = out_enc.get_plain_text()\n",
    "    \n",
    "    # Since both parties have same decrypted results, only print the rank 0 output\n",
    "    crypten.print(\"Decrypted output:\\n Output Encrypted:\", crypten.is_encrypted_tensor(out_dec))\n",
    "    crypten.print(\"Tensors:\\n\", out_dec)\n",
    "    \n",
    "z = step_through_two_layers()"
   ]
  },
  {
   "cell_type": "markdown",
   "metadata": {},
   "source": [
    "Again, we emphasize that the output of each layer is an encrypted tensor. Only after the final call to `get_plain_text` do we get the plaintext tensor.\n",
    "\n",
    "### From PyTorch to CrypTen: Structural Changes in Network Architecture \n",
    "\n",
    "We have used a simple two-layer network in the above example, but the same ideas apply to more complex networks and operations. However, in more complex networks, there may not always be a one-to-one mapping between the PyTorch layers and the CrypTen layers. This is because we use PyTorch's onnx implementation to convert PyTorch models to CrypTen models. \n",
    "As an example, we'll take a typical network used to classify digits in MNIST data, and look at what happens to its structure we convert it to a CrypTen module. (As we only wish to illustrate the structural changes in layers, we will not train this network on data; we will just use it with its randomly initialized weights). "
   ]
  },
  {
   "cell_type": "code",
   "execution_count": 13,
   "metadata": {},
   "outputs": [
    {
     "name": "stdout",
     "output_type": "stream",
     "text": [
      "Name: 46 \tModule: Conv2d encrypted module\n",
      "Name: 26 \tModule: ReLU encrypted module\n",
      "Name: 27 \tModule: _ConstantPad encrypted module\n",
      "Name: 28 \tModule: AvgPool2d encrypted module\n",
      "Name: 49 \tModule: Conv2d encrypted module\n",
      "Name: 31 \tModule: ReLU encrypted module\n",
      "Name: 32 \tModule: _ConstantPad encrypted module\n",
      "Name: 33 \tModule: AvgPool2d encrypted module\n",
      "Name: 34 \tModule: Shape encrypted module\n",
      "Name: 36 \tModule: Gather encrypted module\n",
      "Name: 37 \tModule: Constant encrypted module\n",
      "Name: 38 \tModule: Unsqueeze encrypted module\n",
      "Name: 39 \tModule: Unsqueeze encrypted module\n",
      "Name: 40 \tModule: Concat encrypted module\n",
      "Name: 41 \tModule: Reshape encrypted module\n",
      "Name: 42 \tModule: Linear encrypted module\n",
      "Name: 43 \tModule: _BatchNorm encrypted module\n",
      "Name: 44 \tModule: ReLU encrypted module\n",
      "Name: output \tModule: Linear encrypted module\n"
     ]
    }
   ],
   "source": [
    "# Define Alice's network\n",
    "class AliceNet2(nn.Module):\n",
    "    def __init__(self):\n",
    "        super(AliceNet2, self).__init__()\n",
    "        self.conv1 = nn.Conv2d(1, 16, kernel_size=5, padding=0)\n",
    "        self.conv2 = nn.Conv2d(16, 16, kernel_size=5, padding=0)\n",
    "        self.fc1 = nn.Linear(16 * 4 * 4, 100)\n",
    "        self.fc2 = nn.Linear(100, 10)\n",
    "        self.batchnorm1 = nn.BatchNorm2d(16)\n",
    "        self.batchnorm2 = nn.BatchNorm2d(16)\n",
    "        self.batchnorm3 = nn.BatchNorm1d(100)\n",
    " \n",
    "    def forward(self, x):\n",
    "        out = self.conv1(x)\n",
    "        out = self.batchnorm1(out)\n",
    "        out = F.relu(out)\n",
    "        out = F.avg_pool2d(out, 2)\n",
    "        out = self.conv2(out)\n",
    "        out = self.batchnorm2(out)\n",
    "        out = F.relu(out)\n",
    "        out = F.avg_pool2d(out, 2)\n",
    "        out = out.view(out.size(0), -1)\n",
    "        out = self.fc1(out)\n",
    "        out = self.batchnorm3(out)\n",
    "        out = F.relu(out)\n",
    "        out = self.fc2(out)\n",
    "        return out\n",
    "    \n",
    "model = AliceNet2()\n",
    "\n",
    "# Let's encrypt the complex network. \n",
    "# Create dummy input of the correct input shape for the model\n",
    "dummy_input = torch.empty((1, 1, 28, 28))\n",
    "\n",
    "# Encrypt the network\n",
    "private_model = crypten.nn.from_pytorch(model, dummy_input)\n",
    "private_model.encrypt(src=ALICE)\n",
    "\n",
    "# Examine the structure of the encrypted network\n",
    "for name, curr_module in private_model._modules.items():\n",
    "    print(\"Name:\", name, \"\\tModule:\", curr_module)"
   ]
  },
  {
   "cell_type": "markdown",
   "metadata": {},
   "source": [
    "Notice how the CrypTen network has split some the layers in the PyTorch module into several CrypTen modules. Each PyTorch operation may correspond to one or more operations in CrypTen. However, during the conversion, these are sometimes split due to limitations intorduced by onnx.\n",
    "\n",
    "Before exiting this tutorial, please clean up the files generated using the following code."
   ]
  },
  {
   "cell_type": "code",
   "execution_count": 14,
   "metadata": {},
   "outputs": [],
   "source": [
    "import os\n",
    "for fn in temp_files:\n",
    "    if os.path.exists(fn): os.remove(fn)"
   ]
  }
 ],
 "metadata": {
  "kernelspec": {
   "display_name": "Python 3",
   "language": "python",
   "name": "python3"
  },
  "language_info": {
   "codemirror_mode": {
    "name": "ipython",
    "version": 3
   },
   "file_extension": ".py",
   "mimetype": "text/x-python",
   "name": "python",
   "nbconvert_exporter": "python",
   "pygments_lexer": "ipython3",
   "version": "3.7.9"
  }
 },
 "nbformat": 4,
 "nbformat_minor": 2
}
