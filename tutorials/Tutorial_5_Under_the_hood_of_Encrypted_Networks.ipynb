{
 "cells": [
  {
   "cell_type": "markdown",
   "metadata": {},
   "source": [
    "# Under the Hood of Encrypted Neural Networks\n",
    "\n",
    "This tutorial is optional, and can be skipped without loss of continuity.\n",
    "\n",
    "In this tutorial, we'll take a look at how CrypTen performs inference with an encrypted neural network on encrypted data. We'll see how the data remains encrypted through all the operations, and yet is able to obtain accurate results after the computation. "
   ]
  },
  {
   "cell_type": "code",
   "execution_count": 1,
   "metadata": {},
   "outputs": [],
   "source": [
    "import crypten\n",
    "import torch\n",
    "\n",
    "crypten.init() \n",
    "torch.set_num_threads(1)\n",
    "\n",
    "# Ignore warnings\n",
    "import warnings; \n",
    "warnings.filterwarnings(\"ignore\")\n",
    "\n",
    "# Keep track of all created temporary files so that we can clean up at the end\n",
    "temp_files = []"
   ]
  },
  {
   "cell_type": "markdown",
   "metadata": {},
   "source": [
    "## A Simple Linear Layer\n",
    "We'll start by examining how a single Linear layer works in CrypTen. We'll instantiate a torch Linear layer, convert to CrypTen layer, encrypt it, and step through some toy data with it. As in earlier tutorials, we'll assume Alice has the rank 0 process and Bob has the rank 1 process. We'll also assume Alice has the layer and Bob has the data."
   ]
  },
  {
   "cell_type": "code",
   "execution_count": 2,
   "metadata": {},
   "outputs": [],
   "source": [
    "# Define ALICE and BOB src values\n",
    "ALICE = 0\n",
    "BOB = 1"
   ]
  },
  {
   "cell_type": "code",
   "execution_count": 3,
   "metadata": {},
   "outputs": [
    {
     "name": "stdout",
     "output_type": "stream",
     "text": [
      "Plaintext Weights:\n",
      "\n",
      " Parameter containing:\n",
      "tensor([[ 0.2267, -0.2205,  0.0400, -0.1767],\n",
      "        [ 0.1488, -0.3918,  0.0328, -0.0296]], requires_grad=True)\n",
      "\n",
      "Plaintext Bias:\n",
      "\n",
      " Parameter containing:\n",
      "tensor([-0.4732,  0.4954], requires_grad=True)\n"
     ]
    }
   ],
   "source": [
    "import torch.nn as nn\n",
    "\n",
    "# Instantiate single Linear layer\n",
    "layer_linear = nn.Linear(4, 2)\n",
    "\n",
    "# The weights and the bias are initialized to small random values\n",
    "print(\"Plaintext Weights:\\n\\n\", layer_linear._parameters['weight'])\n",
    "print(\"\\nPlaintext Bias:\\n\\n\", layer_linear._parameters['bias'])\n",
    "\n",
    "# Save the plaintext layer\n",
    "layer_linear_file = \"/tmp/tutorial5_layer_alice1.pth\"\n",
    "crypten.save(layer_linear, layer_linear_file)\n",
    "temp_files.append(layer_linear_file) \n",
    "\n",
    "# Generate some toy data\n",
    "features = 4\n",
    "examples = 3\n",
    "toy_data = torch.rand(examples, features)\n",
    "\n",
    "# Save the plaintext toy data\n",
    "toy_data_file = \"/tmp/tutorial5_data_bob1.pth\"\n",
    "crypten.save(toy_data, toy_data_file)\n",
    "temp_files.append(toy_data_file)"
   ]
  },
  {
   "cell_type": "code",
   "execution_count": 4,
   "metadata": {},
   "outputs": [
    {
     "name": "stdout",
     "output_type": "stream",
     "text": [
      "Weights:\n",
      " Parameter encrypted module\n",
      "Bias:\n",
      " Parameter encrypted module \n",
      "\n",
      "Decrypted result:\n",
      " tensor([[-0.3276,  0.4912],\n",
      "        [-0.6123,  0.2906],\n",
      "        [-0.3624,  0.5380]])\n"
     ]
    },
    {
     "data": {
      "text/plain": [
       "[None, None]"
      ]
     },
     "execution_count": 4,
     "metadata": {},
     "output_type": "execute_result"
    }
   ],
   "source": [
    "import crypten.mpc as mpc\n",
    "import crypten.communicator as comm\n",
    "\n",
    "@mpc.run_multiprocess(world_size=2)\n",
    "def forward_single_encrypted_layer():\n",
    "    # Load and encrypt the layer\n",
    "    layer = crypten.load_from_party(layer_linear_file, src=ALICE)\n",
    "    layer_enc = crypten.nn.from_pytorch(layer, dummy_input=torch.empty((1,4)))\n",
    "    layer_enc.encrypt(src=ALICE)\n",
    "    \n",
    "    # Note that layer parameters are encrypted:\n",
    "    crypten.print(\"Weights:\\n\", layer_enc.weight)\n",
    "    crypten.print(\"Bias:\\n\", layer_enc.bias, \"\\n\")\n",
    "    \n",
    "    # Load and encrypt data\n",
    "    data_enc = crypten.load_from_party(toy_data_file, src=BOB)\n",
    "    \n",
    "    # Apply the encrypted layer (linear transformation):\n",
    "    result_enc = layer_enc.forward(data_enc)\n",
    "    \n",
    "    # Decrypt the result:\n",
    "    result = result_enc.get_plain_text()\n",
    "    \n",
    "    # Examine the result\n",
    "    crypten.print(\"Decrypted result:\\n\", result)\n",
    "        \n",
    "forward_single_encrypted_layer()"
   ]
  },
  {
   "cell_type": "markdown",
   "metadata": {},
   "source": [
    "We can see that the application of the encrypted linear layer on the encrypted data produces an encrypted result, which we can then decrypt to get the values in plaintext.\n",
    "\n",
    "Let's look at a second linear transformation, to give a flavor of how accuracy is preserved even when the data and the layer are encrypted. We'll look at a uniform scaling transformation, in which all tensor elements are multiplied by the same scalar factor. Again, we'll assume Alice has the layer and the rank 0 process, and Bob has the data and the rank 1 process."
   ]
  },
  {
   "cell_type": "code",
   "execution_count": 5,
   "metadata": {},
   "outputs": [],
   "source": [
    "# Initialize a linear layer with random weights\n",
    "layer_scale = nn.Linear(3, 3)\n",
    "\n",
    "# Construct a uniform scaling matrix: we'll scale by factor 5\n",
    "factor = 5\n",
    "layer_scale._parameters['weight'] = torch.eye(3)*factor\n",
    "layer_scale._parameters['bias'] = torch.zeros_like(layer_scale._parameters['bias'])\n",
    "\n",
    "# Save the plaintext layer\n",
    "layer_scale_file = \"/tmp/tutorial5_layer_alice2.pth\"\n",
    "crypten.save(layer_scale, layer_scale_file)\n",
    "temp_files.append(layer_scale_file)\n",
    "\n",
    "# Construct some toy data\n",
    "features = 3\n",
    "examples = 2\n",
    "toy_data = torch.ones(examples, features)\n",
    "\n",
    "# Save the plaintext toy data\n",
    "toy_data_file = \"/tmp/tutorial5_data_bob2.pth\"\n",
    "crypten.save(toy_data, toy_data_file)\n",
    "temp_files.append(toy_data_file)"
   ]
  },
  {
   "cell_type": "code",
   "execution_count": 6,
   "metadata": {},
   "outputs": [
    {
     "name": "stdout",
     "output_type": "stream",
     "text": [
      "Weights:\n",
      " Parameter encrypted module\n",
      "Bias:\n",
      "\n",
      " Parameter encrypted module\n",
      "Plaintext result:\n",
      " tensor([[5., 5., 5.],\n",
      "        [5., 5., 5.]])\n"
     ]
    }
   ],
   "source": [
    "@mpc.run_multiprocess(world_size=2)\n",
    "def forward_scaling_layer():\n",
    "    rank = comm.get().get_rank()\n",
    "    \n",
    "    # Load and encrypt the layer\n",
    "    layer = crypten.load_from_party(layer_scale_file, src=ALICE)\n",
    "    layer_enc = crypten.nn.from_pytorch(layer, dummy_input=torch.empty((1,3)))\n",
    "    layer_enc.encrypt(src=ALICE)\n",
    "    \n",
    "    # Load and encrypt data\n",
    "    data_enc = crypten.load_from_party(toy_data_file, src=BOB)   \n",
    "    \n",
    "    # Note that layer parameters are (still) encrypted:\n",
    "    crypten.print(\"Weights:\\n\", layer_enc.weight)\n",
    "    crypten.print(\"Bias:\\n\\n\", layer_enc.bias)\n",
    "\n",
    "    # Apply the encrypted scaling transformation\n",
    "    result_enc = layer_enc.forward(data_enc)\n",
    "\n",
    "    # Decrypt the result:\n",
    "    result = result_enc.get_plain_text()\n",
    "    crypten.print(\"Plaintext result:\\n\", (result))\n",
    "        \n",
    "z = forward_scaling_layer()"
   ]
  },
  {
   "cell_type": "markdown",
   "metadata": {},
   "source": [
    "The resulting plaintext tensor is correctly scaled, even though we applied the encrypted transformation on the encrypted input! "
   ]
  },
  {
   "cell_type": "markdown",
   "metadata": {},
   "source": [
    "## Multi-layer Neural Networks\n",
    "Let's now look at how the encrypted input moves through an encrypted multi-layer neural network. \n",
    "\n",
    "For ease of explanation, we'll first step through a network with only two linear layers and ReLU activations. Again, we'll assume Alice has a network and Bob has some data, and they wish to run encrypted inference. \n",
    "\n",
    "To simulate this, we'll once again generate some toy data and train Alice's network on it. Then we'll encrypt Alice's network, Bob's data, and step through every layer in the network with the encrypted data. Through this, we'll see how the computations get applied although the network and the data are encrypted.\n",
    "\n",
    "### Setup\n",
    "As in Tutorial 3, we will first generate 1000 ground truth samples using 50 features and a randomly generated hyperplane to separate positive and negative examples. We will then modify the labels so that they are all non-negative. Finally, we will split the data so that the first 900 samples belong to Alice and the last 100 samples belong to Bob."
   ]
  },
  {
   "cell_type": "code",
   "execution_count": 7,
   "metadata": {},
   "outputs": [],
   "source": [
    "# Setup\n",
    "features = 50\n",
    "examples = 1000\n",
    "\n",
    "# Set random seed for reproducibility\n",
    "torch.manual_seed(1)\n",
    "\n",
    "# Generate toy data and separating hyperplane\n",
    "data = torch.randn(examples, features)\n",
    "w_true = torch.randn(1, features)\n",
    "b_true = torch.randn(1)\n",
    "labels = w_true.matmul(data.t()).add(b_true).sign()\n",
    "\n",
    "# Change labels to non-negative values\n",
    "labels_nn = torch.where(labels==-1, torch.zeros(labels.size()), labels)\n",
    "labels_nn = labels_nn.squeeze().long()\n",
    "\n",
    "# Split data into Alice's and Bob's portions:\n",
    "data_alice, labels_alice = data[:900], labels_nn[:900]\n",
    "data_bob, labels_bob = data[900:], labels_nn[900:]"
   ]
  },
  {
   "cell_type": "code",
   "execution_count": 8,
   "metadata": {},
   "outputs": [],
   "source": [
    "# Define Alice's network\n",
    "import torch.nn as nn\n",
    "import torch.nn.functional as F\n",
    "\n",
    "class AliceNet(nn.Module):\n",
    "    def __init__(self):\n",
    "        super(AliceNet, self).__init__()\n",
    "        self.fc1 = nn.Linear(50, 20)\n",
    "        self.fc2 = nn.Linear(20, 2)\n",
    "        \n",
    "    def forward(self, x):\n",
    "        out = self.fc1(x)\n",
    "        out = F.relu(out)\n",
    "        out = self.fc2(out)\n",
    "        return out"
   ]
  },
  {
   "cell_type": "code",
   "execution_count": 9,
   "metadata": {},
   "outputs": [
    {
     "name": "stdout",
     "output_type": "stream",
     "text": [
      "Epoch 99 Loss: 0.24704277515411377\n",
      "Epoch 199 Loss: 0.0896543338894844\n",
      "Epoch 299 Loss: 0.051661550998687744\n",
      "Epoch 399 Loss: 0.0351078100502491\n",
      "Epoch 499 Loss: 0.026072481647133827\n"
     ]
    }
   ],
   "source": [
    "# Train and save Alice's network\n",
    "model = AliceNet()\n",
    "criterion = nn.CrossEntropyLoss()\n",
    "optimizer = torch.optim.SGD(model.parameters(), lr=0.1)\n",
    "\n",
    "for i in range(500):  \n",
    "    #forward pass: compute prediction\n",
    "    output = model(data_alice)\n",
    "    \n",
    "    #compute and print loss\n",
    "    loss = criterion(output, labels_alice)\n",
    "    if i % 100 == 99:\n",
    "        print(\"Epoch\", i, \"Loss:\", loss.item())\n",
    "    \n",
    "    #zero gradients for learnable parameters\n",
    "    optimizer.zero_grad()\n",
    "    \n",
    "    #backward pass: compute gradient with respect to model parameters\n",
    "    loss.backward()\n",
    "    \n",
    "    #update model parameters\n",
    "    optimizer.step()\n",
    "\n",
    "sample_trained_model_file = '/tmp/tutorial5_alice_model.pth'\n",
    "torch.save(model, sample_trained_model_file)\n",
    "temp_files.append(sample_trained_model_file)"
   ]
  },
  {
   "cell_type": "markdown",
   "metadata": {},
   "source": [
    "### Stepping through a Multi-layer Network\n",
    "\n",
    "Let's now look at what happens when we load the network Alice's has trained and encrypt it. First, we'll look at how the network structure changes when we convert it from a PyTorch network to CrypTen network."
   ]
  },
  {
   "cell_type": "code",
   "execution_count": 10,
   "metadata": {},
   "outputs": [
    {
     "name": "stdout",
     "output_type": "stream",
     "text": [
      "Name: fc1.weight \tModule: Parameter encrypted module\n",
      "Name: fc1.bias \tModule: Parameter encrypted module\n",
      "Name: fc2.weight \tModule: Parameter encrypted module\n",
      "Name: fc2.bias \tModule: Parameter encrypted module\n",
      "Name: out \tModule: Gemm encrypted module\n",
      "Name: onnx::Gemm_6 \tModule: ReLU encrypted module\n",
      "Name: output \tModule: Gemm encrypted module\n"
     ]
    }
   ],
   "source": [
    "# Load the trained network to Alice\n",
    "model_plaintext = crypten.load_from_party(sample_trained_model_file, model_class=AliceNet, src=ALICE)\n",
    "\n",
    "# Convert the trained network to CrypTen network \n",
    "private_model = crypten.nn.from_pytorch(model_plaintext, dummy_input=torch.empty((1, 50)))\n",
    "# Encrypt the network\n",
    "private_model.encrypt(src=ALICE)\n",
    "\n",
    "# Examine the structure of the encrypted CrypTen network\n",
    "for name, curr_module in private_model._modules.items():\n",
    "    print(\"Name:\", name, \"\\tModule:\", curr_module)"
   ]
  },
  {
   "cell_type": "markdown",
   "metadata": {},
   "source": [
    "We see that the encrypted network has 3 modules, named '5', '6' and 'output', denoting the first Linear layer, the ReLU activation, and the second Linear layer respectively. These modules are encrypted just as the layers in the previous section were. \n",
    "\n",
    "Now let's encrypt Bob's data, and step it through each encrypted module. For readability, we will use only 3 examples from Bob's data to illustrate the inference. Note how Bob's data remains encrypted after each individual layer's computation!"
   ]
  },
  {
   "cell_type": "code",
   "execution_count": 11,
   "metadata": {},
   "outputs": [],
   "source": [
    "# Pre-processing: Select only the first three examples in Bob's data for readability\n",
    "data = data_bob[:3]\n",
    "sample_data_bob_file = '/tmp/tutorial5_data_bob3.pth'\n",
    "torch.save(data, sample_data_bob_file)\n",
    "temp_files.append(sample_data_bob_file)"
   ]
  },
  {
   "cell_type": "code",
   "execution_count": 12,
   "metadata": {},
   "outputs": [
    {
     "name": "stdout",
     "output_type": "stream",
     "text": [
      "Rank: 0\n",
      "\tFirst Linear Layer: Output Encrypted: True\n",
      "Rank: 1\n",
      "\tFirst Linear Layer: Output Encrypted: True\n",
      "Rank: 0\n",
      "\tShares after First Linear Layer:tensor([[ 175824967809668,   90117865558285, -170985542339709, -215640286165073,\n",
      "           18621032635792, -202915181073792,   65026904389310,  -69238138110918,\n",
      "          -64796786656984,   51476901015230,   12369318297478,   41020514556434,\n",
      "          -38063492800617, -183220559679270,  -49065980963169,   77422496622531,\n",
      "         -189822977990336, -160186524027970,   93411483873825,  212256055962008],\n",
      "        [ 130805976363853,  137977285755109, -165954762552537,  -27970791668474,\n",
      "         -231634870327578, -136208771092674,  128773255428853,  -62658312632528,\n",
      "          -56022671963708,   84253262498372, -243518043842354,  -16236644065071,\n",
      "          -47962250523661, -118217591726114,   78793262794700,  -25689636861965,\n",
      "         -164251040647126, -153916189379691,  -91284080450332,   93824685378889],\n",
      "        [ 137326039081117,   25000135788319,  -14903180576927, -129596143122679,\n",
      "          -10023348392635, -139310310064414, -106693766854624,  -55115873585478,\n",
      "          -98703309743308,  228145496310004,  -13615334006165,  178882141965187,\n",
      "           18083900798393,  -35172027036128,  -43653588834306,    3195409454243,\n",
      "           -5783801929026, -127569365519833,  -26663920645485,    -180207504209]])\n",
      "Rank: 1\n",
      "\tShares after First Linear Layer:tensor([[-175824967810992,  -90117865562851,  170985542334792,  215640286183682,\n",
      "          -18621032619202,  202915181027103,  -65026904378912,   69238138133425,\n",
      "           64796786680632,  -51476901011403,  -12369318287269,  -41020514544434,\n",
      "           38063492898351,  183220559631537,   49065981041001,  -77422496603127,\n",
      "          189822978033065,  160186524023536,  -93411483939104, -212256055978656],\n",
      "        [-130805976295550, -137977285804247,  165954762627732,   27970791672759,\n",
      "          231634870338981,  136208771039516, -128773255394146,   62658312708156,\n",
      "           56022671977657,  -84253262566144,  243518043801558,   16236644104235,\n",
      "           47962250439717,  118217591720165,  -78793262726465,   25689636827150,\n",
      "          164251040662673,  153916189347575,   91284080423971,  -93824685261706],\n",
      "        [-137326039083279,  -25000135748888,   14903180729067,  129596143212001,\n",
      "           10023348370081,  139310310059369,  106693766829166,   55115873669472,\n",
      "           98703309727314, -228145496234625,   13615334090309, -178882141992109,\n",
      "          -18083900900589,   35172026992488,   43653588731518,   -3195409544710,\n",
      "            5783801829149,  127569365512665,   26663920708096,     180207484499]])\n",
      "Rank: 0\n",
      "\tReLU:\n",
      " Output Encrypted: True\n",
      "Rank: 1\n",
      "\tReLU:\n",
      " Output Encrypted: True\n",
      "Rank: 0\n",
      "\tShares after ReLU: tensor([[ 8946247574249412706,  4711880969628272207, -3986782983857376257,\n",
      "          2488639491552155653, -1371672525508673505, -6642426451098975324,\n",
      "         -2240559306379388524, -7340465377474670922, -6712145679211979395,\n",
      "          -470284324129753123, -8578941983242795675,  2976528813625084486,\n",
      "          6293579896644562980, -5574479090132744895,  7501870185369629934,\n",
      "         -5687843097081646105,  1439553460736067367, -8885321370976401744,\n",
      "          -385593988071218593, -5539285557833508506],\n",
      "        [-3459900800133731009,  8219722599416569154, -7757243841456984311,\n",
      "         -4618008241603191330, -4934647946712258984, -9096463599569577349,\n",
      "          1773879276102797716,  5688414068327410751, -4998806718118506543,\n",
      "         -6609425702327136273, -3182915819189422833,   636132041378620137,\n",
      "          1773508678690149818,  3884715076476600701,  8908591634524518954,\n",
      "          6685892773204882497,  5210721005631676444,  2776123938760614114,\n",
      "          3573018306134817610, -6889517918129973149],\n",
      "        [   58724714726009834,  7988618905750190561, -3870991647670347612,\n",
      "          4883990675013327280, -2420253365728449720, -6174858645499724402,\n",
      "         -1458225121061927688,  8774724943835468014, -4346955899062799316,\n",
      "         -6918597290329680685,  3400629266558544324,   701512940693807215,\n",
      "         -6711513501832965271,  8699236374416724581, -1319187450852557164,\n",
      "         -3768425310493021453,  5090100388183100510, -7526249112825072062,\n",
      "         -5800735567593583573,  6501791870032022649]])\n",
      "\n",
      "Rank: 1\n",
      "\tShares after ReLU: tensor([[-8946247574249412706, -4711880969628272207,  3986782983857376257,\n",
      "         -2488639491552137044,  1371672525508690095,  6642426451098975324,\n",
      "          2240559306379398922,  7340465377474693429,  6712145679212003043,\n",
      "           470284324129756950,  8578941983242805884, -2976528813625072486,\n",
      "         -6293579896644465246,  5574479090132744895, -7501870185369552102,\n",
      "          5687843097081665509, -1439553460736024638,  8885321370976401744,\n",
      "           385593988071218593,  5539285557833508506],\n",
      "        [ 3459900800133799312, -8219722599416569154,  7757243841457059506,\n",
      "          4618008241603195615,  4934647946712270387,  9096463599569577349,\n",
      "         -1773879276102763009, -5688414068327335123,  4998806718118520492,\n",
      "          6609425702327136273,  3182915819189422833,  -636132041378580973,\n",
      "         -1773508678690149818, -3884715076476600701, -8908591634524450719,\n",
      "         -6685892773204882497, -5210721005631660897, -2776123938760614114,\n",
      "         -3573018306134817610,  6889517918130090332],\n",
      "        [  -58724714726009834, -7988618905750151130,  3870991647670499752,\n",
      "         -4883990675013237958,  2420253365728449720,  6174858645499724402,\n",
      "          1458225121061927688, -8774724943835384020,  4346955899062799316,\n",
      "          6918597290329756064, -3400629266558460180,  -701512940693807215,\n",
      "          6711513501832965271, -8699236374416724581,  1319187450852557164,\n",
      "          3768425310493021453, -5090100388183100510,  7526249112825072062,\n",
      "          5800735567593646184, -6501791870032022649]])\n",
      "\n",
      "Rank: 0 Second Linear layer:\n",
      " Output Encrypted: True\n",
      "\n",
      "Rank: 1 Second Linear layer:\n",
      " Output Encrypted: True\n",
      "\n",
      "Rank: 0 Shares after Second Linear layer:tensor([[ -51092127958791,  -44654331971102],\n",
      "        [-113194332190196,  -16706213252441],\n",
      "        [ -82494515247491, -114887764425307]])\n",
      "\n",
      "Rank: 1 Shares after Second Linear layer:tensor([[ 51092127786094,  44654332140593],\n",
      "        [113194332330223,  16706213166488],\n",
      "        [ 82494515533623, 114887764201934]])\n",
      "\n",
      "Decrypted output:\n",
      " Output Encrypted: False\n",
      "Tensors:\n",
      " tensor([[-2.6351,  2.5862],\n",
      "        [ 2.1366, -1.3115],\n",
      "        [ 4.3660, -3.4084]])\n"
     ]
    }
   ],
   "source": [
    "@mpc.run_multiprocess(world_size=2)\n",
    "def step_through_two_layers():    \n",
    "    rank = comm.get().get_rank()\n",
    "\n",
    "    # Load and encrypt the network\n",
    "    model = crypten.load_from_party(sample_trained_model_file, model_class=AliceNet, src=ALICE)\n",
    "    private_model = crypten.nn.from_pytorch(model, dummy_input=torch.empty((1, 50)))\n",
    "    private_model.encrypt(src=ALICE)\n",
    "\n",
    "    # Load and encrypt the data\n",
    "    data_enc = crypten.load_from_party(sample_data_bob_file, src=BOB)\n",
    "\n",
    "    # Forward through the first layer\n",
    "    fc1_weight = private_model._modules['fc1.weight'].forward([])\n",
    "    fc1_bias = private_model._modules['fc1.bias'].forward([])\n",
    "    out_enc = private_model._modules['out'].forward([data_enc, fc1_weight, fc1_bias])\n",
    "    encrypted = crypten.is_encrypted_tensor(out_enc)\n",
    "    crypten.print(f\"Rank: {rank}\\n\\tFirst Linear Layer: Output Encrypted: {encrypted}\", in_order=True)\n",
    "    crypten.print(f\"Rank: {rank}\\n\\tShares after First Linear Layer:{out_enc.share}\", in_order=True)\n",
    "\n",
    "    # Apply ReLU activation\n",
    "    out_enc = private_model._modules['onnx::Gemm_6'].forward(out_enc)\n",
    "    encrypted = crypten.is_encrypted_tensor(out_enc)\n",
    "    crypten.print(f\"Rank: {rank}\\n\\tReLU:\\n Output Encrypted: {encrypted}\", in_order=True)\n",
    "    crypten.print(f\"Rank: {rank}\\n\\tShares after ReLU: {out_enc.share}\\n\", in_order=True)\n",
    "\n",
    "    # Forward through the second Linear layer\n",
    "    fc2_weight = private_model._modules['fc2.weight'].forward([])\n",
    "    fc2_bias = private_model._modules['fc2.bias'].forward([])\n",
    "    out_enc = private_model._modules['output'].forward([out_enc, fc2_weight, fc2_bias])\n",
    "    encrypted = crypten.is_encrypted_tensor(out_enc)\n",
    "    crypten.print(f\"Rank: {rank} Second Linear layer:\\n Output Encrypted: {encrypted}\\n\", in_order=True) \n",
    "    crypten.print(f\"Rank: {rank} Shares after Second Linear layer:{out_enc.share}\\n\", in_order=True)\n",
    "\n",
    "    # Decrypt the output\n",
    "    out_dec = out_enc.get_plain_text()\n",
    "    \n",
    "    # Since both parties have same decrypted results, only print the rank 0 output\n",
    "    crypten.print(\"Decrypted output:\\n Output Encrypted:\", crypten.is_encrypted_tensor(out_dec))\n",
    "    crypten.print(\"Tensors:\\n\", out_dec)\n",
    "    \n",
    "z = step_through_two_layers()"
   ]
  },
  {
   "cell_type": "markdown",
   "metadata": {},
   "source": [
    "Again, we emphasize that the output of each layer is an encrypted tensor. Only after the final call to `get_plain_text` do we get the plaintext tensor.\n",
    "\n",
    "### From PyTorch to CrypTen: Structural Changes in Network Architecture \n",
    "\n",
    "We have used a simple two-layer network in the above example, but the same ideas apply to more complex networks and operations. However, in more complex networks, there may not always be a one-to-one mapping between the PyTorch layers and the CrypTen layers. This is because we use PyTorch's onnx implementation to convert PyTorch models to CrypTen models. \n",
    "As an example, we'll take a typical network used to classify digits in MNIST data, and look at what happens to its structure we convert it to a CrypTen module. (As we only wish to illustrate the structural changes in layers, we will not train this network on data; we will just use it with its randomly initialized weights). "
   ]
  },
  {
   "cell_type": "code",
   "execution_count": 13,
   "metadata": {},
   "outputs": [
    {
     "name": "stdout",
     "output_type": "stream",
     "text": [
      "Name: fc1.weight \tModule: Parameter encrypted module\n",
      "Name: fc1.bias \tModule: Parameter encrypted module\n",
      "Name: fc2.weight \tModule: Parameter encrypted module\n",
      "Name: fc2.bias \tModule: Parameter encrypted module\n",
      "Name: batchnorm3.weight \tModule: Parameter encrypted module\n",
      "Name: batchnorm3.bias \tModule: Parameter encrypted module\n",
      "Name: batchnorm3.running_mean \tModule: Parameter encrypted module\n",
      "Name: batchnorm3.running_var \tModule: Parameter encrypted module\n",
      "Name: onnx::Conv_45 \tModule: Parameter encrypted module\n",
      "Name: onnx::Conv_46 \tModule: Parameter encrypted module\n",
      "Name: onnx::Conv_48 \tModule: Parameter encrypted module\n",
      "Name: onnx::Conv_49 \tModule: Parameter encrypted module\n",
      "Name: out \tModule: Conv encrypted module\n",
      "Name: onnx::Pad_26 \tModule: ReLU encrypted module\n",
      "Name: onnx::AveragePool_27 \tModule: _ConstantPad encrypted module\n",
      "Name: input.4 \tModule: AvgPool2d encrypted module\n",
      "Name: out.3 \tModule: Conv encrypted module\n",
      "Name: onnx::Pad_31 \tModule: ReLU encrypted module\n",
      "Name: onnx::AveragePool_32 \tModule: _ConstantPad encrypted module\n",
      "Name: onnx::Reshape_33 \tModule: AvgPool2d encrypted module\n",
      "Name: onnx::Unsqueeze_34 \tModule: Constant encrypted module\n",
      "Name: onnx::Unsqueeze_35 \tModule: Constant encrypted module\n",
      "Name: onnx::Concat_36 \tModule: Unsqueeze encrypted module\n",
      "Name: onnx::Concat_37 \tModule: Unsqueeze encrypted module\n",
      "Name: onnx::Reshape_38 \tModule: Concat encrypted module\n",
      "Name: onnx::Gemm_39 \tModule: Reshape encrypted module\n",
      "Name: input.12 \tModule: Gemm encrypted module\n",
      "Name: out.7 \tModule: BatchNormalization encrypted module\n",
      "Name: onnx::Gemm_42 \tModule: ReLU encrypted module\n",
      "Name: output \tModule: Gemm encrypted module\n"
     ]
    }
   ],
   "source": [
    "# Define Alice's network\n",
    "class AliceNet2(nn.Module):\n",
    "    def __init__(self):\n",
    "        super(AliceNet2, self).__init__()\n",
    "        self.conv1 = nn.Conv2d(1, 16, kernel_size=5, padding=0)\n",
    "        self.conv2 = nn.Conv2d(16, 16, kernel_size=5, padding=0)\n",
    "        self.fc1 = nn.Linear(16 * 4 * 4, 100)\n",
    "        self.fc2 = nn.Linear(100, 10)\n",
    "        self.batchnorm1 = nn.BatchNorm2d(16)\n",
    "        self.batchnorm2 = nn.BatchNorm2d(16)\n",
    "        self.batchnorm3 = nn.BatchNorm1d(100)\n",
    " \n",
    "    def forward(self, x):\n",
    "        out = self.conv1(x)\n",
    "        out = self.batchnorm1(out)\n",
    "        out = F.relu(out)\n",
    "        out = F.avg_pool2d(out, 2)\n",
    "        out = self.conv2(out)\n",
    "        out = self.batchnorm2(out)\n",
    "        out = F.relu(out)\n",
    "        out = F.avg_pool2d(out, 2)\n",
    "        out = out.view(out.size(0), -1)\n",
    "        out = self.fc1(out)\n",
    "        out = self.batchnorm3(out)\n",
    "        out = F.relu(out)\n",
    "        out = self.fc2(out)\n",
    "        return out\n",
    "    \n",
    "model = AliceNet2()\n",
    "\n",
    "# Let's encrypt the complex network. \n",
    "# Create dummy input of the correct input shape for the model\n",
    "dummy_input = torch.empty((1, 1, 28, 28))\n",
    "\n",
    "# Encrypt the network\n",
    "private_model = crypten.nn.from_pytorch(model, dummy_input)\n",
    "private_model.encrypt(src=ALICE)\n",
    "\n",
    "# Examine the structure of the encrypted network\n",
    "for name, curr_module in private_model._modules.items():\n",
    "    print(\"Name:\", name, \"\\tModule:\", curr_module)"
   ]
  },
  {
   "cell_type": "markdown",
   "metadata": {},
   "source": [
    "Notice how the CrypTen network has split some the layers in the PyTorch module into several CrypTen modules. Each PyTorch operation may correspond to one or more operations in CrypTen. However, during the conversion, these are sometimes split due to limitations intorduced by onnx.\n",
    "\n",
    "Before exiting this tutorial, please clean up the files generated using the following code."
   ]
  },
  {
   "cell_type": "code",
   "execution_count": 14,
   "metadata": {},
   "outputs": [],
   "source": [
    "import os\n",
    "for fn in temp_files:\n",
    "    if os.path.exists(fn): os.remove(fn)"
   ]
  },
  {
   "cell_type": "code",
   "execution_count": null,
   "metadata": {},
   "outputs": [],
   "source": []
  }
 ],
 "metadata": {
  "kernelspec": {
   "display_name": "Python 3 (ipykernel)",
   "language": "python",
   "name": "python3"
  },
  "language_info": {
   "codemirror_mode": {
    "name": "ipython",
    "version": 3
   },
   "file_extension": ".py",
   "mimetype": "text/x-python",
   "name": "python",
   "nbconvert_exporter": "python",
   "pygments_lexer": "ipython3",
   "version": "3.7.5"
  }
 },
 "nbformat": 4,
 "nbformat_minor": 2
}
