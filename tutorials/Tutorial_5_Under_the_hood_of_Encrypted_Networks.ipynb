{
 "cells": [
  {
   "cell_type": "markdown",
   "metadata": {},
   "source": [
    "# Under the Hood of Encrypted Neural Networks\n",
    "\n",
    "This tutorial is optional, and can be skipped without loss of continuity.\n",
    "\n",
    "In this tutorial, we'll take a look at how CrypTen performs inference with an encrypted neural network on encrypted data. We'll see how the data remains encrypted through all the operations, and yet is able to obtain accurate results after the computation. "
   ]
  },
  {
   "cell_type": "code",
   "execution_count": 1,
   "metadata": {},
   "outputs": [],
   "source": [
    "import crypten\n",
    "import torch\n",
    "\n",
    "crypten.init() \n",
    "torch.set_num_threads(1)\n",
    "\n",
    "# Ignore warnings\n",
    "import warnings; \n",
    "warnings.filterwarnings(\"ignore\")\n",
    "\n",
    "# Keep track of all created temporary files so that we can clean up at the end\n",
    "temp_files = []"
   ]
  },
  {
   "cell_type": "markdown",
   "metadata": {},
   "source": [
    "## A Simple Linear Layer\n",
    "We'll start by examining how a single Linear layer works in CrypTen. We'll instantiate a torch Linear layer, convert to CrypTen layer, encrypt it, and step through some toy data with it. As in earlier tutorials, we'll assume Alice has the rank 0 process and Bob has the rank 1 process. We'll also assume Alice has the layer and Bob has the data."
   ]
  },
  {
   "cell_type": "code",
   "execution_count": 2,
   "metadata": {},
   "outputs": [],
   "source": [
    "# Define ALICE and BOB src values\n",
    "ALICE = 0\n",
    "BOB = 1"
   ]
  },
  {
   "cell_type": "code",
   "execution_count": 3,
   "metadata": {},
   "outputs": [
    {
     "name": "stdout",
     "output_type": "stream",
     "text": [
      "Plaintext Weights: Parameter containing:\n",
      "tensor([[ 0.1231, -0.3265,  0.2590, -0.0752],\n",
      "        [-0.2957,  0.1935,  0.2226, -0.0387]], requires_grad=True)\n",
      "Plaintext Bias: Parameter containing:\n",
      "tensor([ 0.1789, -0.0787], requires_grad=True)\n"
     ]
    }
   ],
   "source": [
    "import torch.nn as nn\n",
    "\n",
    "# Instantiate single Linear layer\n",
    "layer_linear = nn.Linear(4, 2)\n",
    "\n",
    "# The weights and the bias are initialized to small random values\n",
    "print(\"Plaintext Weights:\", layer_linear._parameters['weight'])\n",
    "print(\"Plaintext Bias:\", layer_linear._parameters['bias'])\n",
    "\n",
    "# Save the plaintext layer\n",
    "layer_linear_file = \"/tmp/tutorial5_layer_alice1.pth\"\n",
    "crypten.save(layer_linear, layer_linear_file)\n",
    "temp_files.append(layer_linear_file) \n",
    "\n",
    "# Generate some toy data\n",
    "features = 4\n",
    "examples = 3\n",
    "toy_data = torch.rand(examples, features)\n",
    "\n",
    "# Save the plaintext toy data\n",
    "toy_data_file = \"/tmp/tutorial5_data_bob1.pth\"\n",
    "crypten.save(toy_data, toy_data_file)\n",
    "temp_files.append(toy_data_file)"
   ]
  },
  {
   "cell_type": "code",
   "execution_count": 4,
   "metadata": {},
   "outputs": [
    {
     "name": "stdout",
     "output_type": "stream",
     "text": [
      "Weights:\n",
      " tensor([[ 2898316751075970645, -4579388503044133723,  5038242173536375749,\n",
      "         -1490107348288071119],\n",
      "        [-1557770914353334546, -2564120523467162291, -6444290604699277632,\n",
      "         -1291727171320069465]])\n",
      "Bias:\n",
      " tensor([2530322031011295021, 3780145476852328879])\n",
      "\n",
      "Decrypted result:\n",
      " tensor([[ 0.4359, -0.0401],\n",
      "        [ 0.3171, -0.1922],\n",
      "        [ 0.2721, -0.2406]])\n"
     ]
    },
    {
     "data": {
      "text/plain": [
       "[None, None]"
      ]
     },
     "execution_count": 4,
     "metadata": {},
     "output_type": "execute_result"
    }
   ],
   "source": [
    "import crypten.mpc as mpc\n",
    "import crypten.communicator as comm\n",
    "\n",
    "@mpc.run_multiprocess(world_size=2)\n",
    "def forward_single_encrypted_layer():\n",
    "    rank = comm.get().get_rank()\n",
    "    \n",
    "    # Load and encrypt the layer\n",
    "    layer = crypten.load(layer_linear_file, dummy_model=nn.Linear(4, 2), src=ALICE)\n",
    "    layer_enc = crypten.nn.from_pytorch(layer, dummy_input=torch.empty((1,4)))\n",
    "    layer_enc.encrypt(src=ALICE)\n",
    "    \n",
    "    # Note that layer parameters are encrypted:\n",
    "    if rank == 0:  # Print once for readability\n",
    "        print(\"Weights:\\n\", layer_enc.weight.share)\n",
    "        print(\"Bias:\\n\", layer_enc.bias.share)\n",
    "        print()\n",
    "    \n",
    "    # Load and encrypt data\n",
    "    data_enc = crypten.load(toy_data_file, src=BOB)\n",
    "    \n",
    "    # Apply the encrypted layer (linear transformation):\n",
    "    result_enc = layer_enc.forward(data_enc)\n",
    "    \n",
    "    # Decrypt the result:\n",
    "    result = result_enc.get_plain_text()\n",
    "    \n",
    "    # Examine the result\n",
    "    if rank == 0: # Print once for readability\n",
    "        print(\"Decrypted result:\\n\", result)\n",
    "        \n",
    "forward_single_encrypted_layer()"
   ]
  },
  {
   "cell_type": "markdown",
   "metadata": {},
   "source": [
    "We can see that the application of the encrypted linear layer on the encrypted data produces an encrypted result, which we can then decrypt to get the values in plaintext.\n",
    "\n",
    "Let's look at a second linear transformation, to give a flavor of how accuracy is preserved even when the data and the layer are encrypted. We'll look at a uniform scaling transformation, in which all tensor elements are multiplied by the same scalar factor. Again, we'll assume Alice has the layer and the rank 0 process, and Bob has the data and the rank 1 process."
   ]
  },
  {
   "cell_type": "code",
   "execution_count": 5,
   "metadata": {},
   "outputs": [],
   "source": [
    "# Initialize a linear layer with random weights\n",
    "layer_scale = nn.Linear(3, 3)\n",
    "\n",
    "# Construct a uniform scaling matrix: we'll scale by factor 5\n",
    "factor = 5\n",
    "layer_scale._parameters['weight'] = torch.eye(3)*factor\n",
    "layer_scale._parameters['bias'] = torch.zeros_like(layer_scale._parameters['bias'])\n",
    "\n",
    "# Save the plaintext layer\n",
    "layer_scale_file = \"/tmp/tutorial5_layer_alice2.pth\"\n",
    "crypten.save(layer_scale, layer_scale_file)\n",
    "temp_files.append(layer_scale_file)\n",
    "\n",
    "# Construct some toy data\n",
    "features = 3\n",
    "examples = 2\n",
    "toy_data = torch.ones(examples, features)\n",
    "\n",
    "# Save the plaintext toy data\n",
    "toy_data_file = \"/tmp/tutorial5_data_bob2.pth\"\n",
    "crypten.save(toy_data, toy_data_file)\n",
    "temp_files.append(toy_data_file)"
   ]
  },
  {
   "cell_type": "code",
   "execution_count": 6,
   "metadata": {},
   "outputs": [
    {
     "name": "stdout",
     "output_type": "stream",
     "text": [
      "Weights:\n",
      " tensor([[ 3824570129683350441, -8540765741594476771, -3033476021071207225],\n",
      "        [-3600177681891051605, -5879382445495720845,   981762740632649929],\n",
      "        [-8080559122370361369, -1390179875616073746,  5513490018807349512]])\n",
      "Bias:\n",
      " tensor([-1285976053388686819, -5042828109819508063, -6784293398454048581])\n",
      "\n",
      "Plaintext result:\n",
      " tensor([[5., 5., 5.],\n",
      "        [5., 5., 5.]])\n"
     ]
    }
   ],
   "source": [
    "@mpc.run_multiprocess(world_size=2)\n",
    "def forward_scaling_layer():\n",
    "    rank = comm.get().get_rank()\n",
    "    \n",
    "    # Load and encrypt the layer\n",
    "    layer = crypten.load(layer_scale_file, dummy_model=nn.Linear(3, 3), src=ALICE)\n",
    "    layer_enc = crypten.nn.from_pytorch(layer, dummy_input=torch.empty((1,3)))\n",
    "    layer_enc.encrypt(src=ALICE)\n",
    "    \n",
    "    # Load and encrypt data\n",
    "    data_enc = crypten.load(toy_data_file, src=BOB)   \n",
    "    \n",
    "    # Note that layer parameters are (still) encrypted:\n",
    "    if rank == 0:  # Print once for readability\n",
    "        print(\"Weights:\\n\", layer_enc.weight.share)\n",
    "        print(\"Bias:\\n\", layer_enc.bias.share)\n",
    "        print()\n",
    "\n",
    "    # Apply the encrypted scaling transformation\n",
    "    result_enc = layer_enc.forward(data_enc)\n",
    "\n",
    "    # Decrypt the result:\n",
    "    result = result_enc.get_plain_text()\n",
    "    \n",
    "    # Since both parties have the same decrypted values, print only rank 0 for readability\n",
    "    if rank == 0:\n",
    "        print(\"Plaintext result:\\n\", (result))\n",
    "        \n",
    "z = forward_scaling_layer()"
   ]
  },
  {
   "cell_type": "markdown",
   "metadata": {},
   "source": [
    "The resulting plaintext tensor is correctly scaled, even though we applied the encrypted transformation on the encrypted input! "
   ]
  },
  {
   "cell_type": "markdown",
   "metadata": {},
   "source": [
    "## Multi-layer Neural Networks\n",
    "Let's now look at how the encrypted input moves through an encrypted multi-layer neural network. \n",
    "\n",
    "For ease of explanation, we'll first step through a network with only two linear layers and ReLU activations. Again, we'll assume Alice has a network and Bob has some data, and they wish to run encrypted inference. \n",
    "\n",
    "To simulate this, we'll once again generate some toy data and train Alice's network on it. Then we'll encrypt Alice's network, Bob's data, and step through every layer in the network with the encrypted data. Through this, we'll see how the computations get applied although the network and the data are encrypted.\n",
    "\n",
    "### Setup\n",
    "As in Tutorial 3, we will first generate 1000 ground truth samples using 50 features and a randomly generated hyperplane to separate positive and negative examples. We will then modify the labels so that they are all non-negative. Finally, we will split the data so that the first 900 samples belong to Alice and the last 100 samples belong to Bob."
   ]
  },
  {
   "cell_type": "code",
   "execution_count": 7,
   "metadata": {},
   "outputs": [],
   "source": [
    "# Setup\n",
    "features = 50\n",
    "examples = 1000\n",
    "\n",
    "# Set random seed for reproducibility\n",
    "torch.manual_seed(1)\n",
    "\n",
    "# Generate toy data and separating hyperplane\n",
    "data = torch.randn(examples, features)\n",
    "w_true = torch.randn(1, features)\n",
    "b_true = torch.randn(1)\n",
    "labels = w_true.matmul(data.t()).add(b_true).sign()\n",
    "\n",
    "# Change labels to non-negative values\n",
    "labels_nn = torch.where(labels==-1, torch.zeros(labels.size()), labels)\n",
    "labels_nn = labels_nn.squeeze().long()\n",
    "\n",
    "# Split data into Alice's and Bob's portions:\n",
    "data_alice, labels_alice = data[:900], labels_nn[:900]\n",
    "data_bob, labels_bob = data[900:], labels_nn[900:]"
   ]
  },
  {
   "cell_type": "code",
   "execution_count": 8,
   "metadata": {},
   "outputs": [],
   "source": [
    "# Define Alice's network\n",
    "import torch.nn as nn\n",
    "import torch.nn.functional as F\n",
    "\n",
    "class AliceNet(nn.Module):\n",
    "    def __init__(self):\n",
    "        super(AliceNet, self).__init__()\n",
    "        self.fc1 = nn.Linear(50, 20)\n",
    "        self.fc2 = nn.Linear(20, 2)\n",
    "        \n",
    "    def forward(self, x):\n",
    "        out = self.fc1(x)\n",
    "        out = F.relu(out)\n",
    "        out = self.fc2(out)\n",
    "        return out"
   ]
  },
  {
   "cell_type": "code",
   "execution_count": 9,
   "metadata": {},
   "outputs": [
    {
     "name": "stdout",
     "output_type": "stream",
     "text": [
      "Epoch 99 Loss: 0.2470429241657257\n",
      "Epoch 199 Loss: 0.08965438604354858\n",
      "Epoch 299 Loss: 0.05166155472397804\n",
      "Epoch 399 Loss: 0.03510778397321701\n",
      "Epoch 499 Loss: 0.026072446256875992\n"
     ]
    }
   ],
   "source": [
    "# Train and save Alice's network\n",
    "model = AliceNet()\n",
    "criterion = nn.CrossEntropyLoss()\n",
    "optimizer = torch.optim.SGD(model.parameters(), lr=0.1)\n",
    "\n",
    "for i in range(500):  \n",
    "    #forward pass: compute prediction\n",
    "    output = model(data_alice)\n",
    "    \n",
    "    #compute and print loss\n",
    "    loss = criterion(output, labels_alice)\n",
    "    if i % 100 == 99:\n",
    "        print(\"Epoch\", i, \"Loss:\", loss.item())\n",
    "    \n",
    "    #zero gradients for learnable parameters\n",
    "    optimizer.zero_grad()\n",
    "    \n",
    "    #backward pass: compute gradient with respect to model parameters\n",
    "    loss.backward()\n",
    "    \n",
    "    #update model parameters\n",
    "    optimizer.step()\n",
    "\n",
    "sample_trained_model_file = '/tmp/tutorial5_alice_model.pth'\n",
    "torch.save(model, sample_trained_model_file)\n",
    "temp_files.append(sample_trained_model_file)"
   ]
  },
  {
   "cell_type": "markdown",
   "metadata": {},
   "source": [
    "### Stepping through a Multi-layer Network\n",
    "\n",
    "Let's now look at what happens when we load the network Alice's has trained and encrypt it. First, we'll look at how the network structure changes when we convert it from a PyTorch network to CrypTen network."
   ]
  },
  {
   "cell_type": "code",
   "execution_count": 10,
   "metadata": {},
   "outputs": [
    {
     "name": "stdout",
     "output_type": "stream",
     "text": [
      "Name: 5 \tModule: <crypten.nn.module.Linear object at 0x7fb688db1750>\n",
      "Name: 6 \tModule: <crypten.nn.module.ReLU object at 0x7fb688de5610>\n",
      "Name: output \tModule: <crypten.nn.module.Linear object at 0x7fb688de5650>\n"
     ]
    }
   ],
   "source": [
    "# Load the trained network to Alice\n",
    "model_plaintext = crypten.load(sample_trained_model_file, dummy_model=AliceNet(), src=ALICE)\n",
    "\n",
    "# Convert the trained network to CrypTen network \n",
    "private_model = crypten.nn.from_pytorch(model_plaintext, dummy_input=torch.empty((1, 50)))\n",
    "# Encrypt the network\n",
    "private_model.encrypt(src=ALICE)\n",
    "\n",
    "# Examine the structure of the encrypted CrypTen network\n",
    "for name, curr_module in private_model._modules.items():\n",
    "    print(\"Name:\", name, \"\\tModule:\", curr_module)"
   ]
  },
  {
   "cell_type": "markdown",
   "metadata": {},
   "source": [
    "We see that the encrypted network has 3 modules, named '5', '6' and 'output', denoting the first Linear layer, the ReLU activation, and the second Linear layer respectively. These modules are encrypted just as the layers in the previous section were. \n",
    "\n",
    "Now let's encrypt Bob's data, and step it through each encrypted module. For readability, we will use only 3 examples from Bob's data to illustrate the inference. Note how Bob's data remains encrypted after each individual layer's computation!"
   ]
  },
  {
   "cell_type": "code",
   "execution_count": 11,
   "metadata": {},
   "outputs": [],
   "source": [
    "# Pre-processing: Select only the first three examples in Bob's data for readability\n",
    "data = data_bob[:3]\n",
    "sample_data_bob_file = '/tmp/tutorial5_data_bob3.pth'\n",
    "torch.save(data, sample_data_bob_file)\n",
    "temp_files.append(sample_data_bob_file)"
   ]
  },
  {
   "cell_type": "code",
   "execution_count": 12,
   "metadata": {},
   "outputs": [
    {
     "name": "stdout",
     "output_type": "stream",
     "text": [
      "Rank: 0 First Linear Layer: Output Encrypted: True\n",
      "Rank: 1 First Linear Layer: Output Encrypted: True\n",
      "\n",
      "\n",
      "Rank: 1 Shares after First Linear Layer:tensor([[-6301967327924596124,  1441054799224171566,  6544478469984047445,\n",
      "          5552031352886356103,  5272638317470990646,  7596515253675258249,\n",
      "           -69400202746828565,  5828418225954818579, -4749428913547144580,\n",
      "          6606576454575994085, -8611449871174003033, -6879516893031986420,\n",
      "         -6036166085005125285, -4328313888449389705, -1251365986125740619,\n",
      "          1495196102692730834,  6980508649455116950, -3898827469711590256,\n",
      "         -3534438480830590527,  7371155115760810984],\n",
      "        [-6302093306442423781,  1441068736631097953,  6544305404511755054,\n",
      "          5552029867695634565,  5272413795589744532,  7596469503207299393,\n",
      "           -69427899322696412,  5828641617418962017, -4749404070611225973,\n",
      "          6606436629940671374, -8611581346037569523, -6879276243271746212,\n",
      "         -6036089440109381038, -4328277524632069842, -1251216352309478973,\n",
      "          1495192104950105102,  6980505109848126085, -3898641388919762689,\n",
      "         -3534384514954890154,  7371263553023027417],\n",
      "        [-6302196016530670846,  1441068422199275460,  6544443190226594007,\n",
      "          5551897792045937027,  5272509097568418791,  7596546678139037730,\n",
      "           -69306306479188599,  5828478682830348811, -4749419202150460350,\n",
      "          6606494462688830463, -8611676291652022053, -6879452222434676411,\n",
      "         -6035926685963266004, -4328281958910070566, -1251144220136015792,\n",
      "          1495257173537946749,  6980624771196506827, -3898680292457191596,\n",
      "         -3534469608370045576,  7371273537554122402]])\n",
      "Rank: 0 Shares after First Linear Layer:tensor([[ 6301967327924594800, -1441054799224176132, -6544478469984052362,\n",
      "         -5552031352886337494, -5272638317470974057, -7596515253675304938,\n",
      "            69400202746838963, -5828418225954796072,  4749428913547168229,\n",
      "         -6606576454575990257,  8611449871174013243,  6879516893031998421,\n",
      "          6036166085005223019,  4328313888449341972,  1251365986125818451,\n",
      "         -1495196102692711430, -6980508649455074221,  3898827469711585822,\n",
      "          3534438480830525249, -7371155115760827632],\n",
      "        [ 6302093306442492083, -1441068736631147091, -6544305404511679859,\n",
      "         -5552029867695630280, -5272413795589733129, -7596469503207352552,\n",
      "            69427899322731120, -5828641617418886389,  4749404070611239923,\n",
      "         -6606436629940739146,  8611581346037528727,  6879276243271785375,\n",
      "          6036089440109297098,  4328277524632063893,  1251216352309547208,\n",
      "         -1495192104950139917, -6980505109848110538,  3898641388919730573,\n",
      "          3534384514954863793, -7371263553022910235],\n",
      "        [ 6302196016530668683, -1441068422199236029, -6544443190226441867,\n",
      "         -5551897792045847705, -5272509097568441345, -7596546678139042775,\n",
      "            69306306479163138, -5828478682830264817,  4749419202150444357,\n",
      "         -6606494462688755085,  8611676291652106198,  6879452222434649489,\n",
      "          6035926685963163807,  4328281958910026926,  1251144220135913003,\n",
      "         -1495257173538037216, -6980624771196606705,  3898680292457184428,\n",
      "          3534469608370108188, -7371273537554142112]])\n",
      "\n",
      "\n",
      "Rank: 1 ReLU:\n",
      " Output Encrypted: True\n",
      "Rank: 0 ReLU:\n",
      " Output Encrypted: True\n",
      "\n",
      "\n",
      "Rank: 1 Shares after ReLU: tensor([[  20335834269325,   -1862188223396,  -22422596809382, -122992649562725,\n",
      "          -10942144055156,  -92661931292462,   36370634722858,   -4303917317055,\n",
      "          -95427716802747,   29753629293586, -132682053296116,    4382837271338,\n",
      "           43569228086006,   56871160109942,  -96186304271390,  -91283597225481,\n",
      "           52829263593360,   55452337381297,  126612973214354,   15568818343686],\n",
      "        [ -17053860036317,  104771133945462,  -60277585643193,   35958852287441,\n",
      "            -566669716469, -132755904050627,   76984972926220,  -86073992441543,\n",
      "           22045980827559,    4491870038315,    6641766124207,  -55543264340776,\n",
      "          -41736636970115,   23671078654926,  -24869162319256,   16410704404076,\n",
      "           -9730287511525,   94768289625541,  109861819356995,  -70891427648082],\n",
      "        [ 116804010453248,   60503265100564, -112710955152682,  126888227914592,\n",
      "         -104831560868555,   12800177436538,  -67091481533778, -121809366681463,\n",
      "           33047461688871,  124048872586605,  131754259871630, -132092660148971,\n",
      "         -104098037363125,  133067523930206,   63709774860683,  117051494575337,\n",
      "          -84071442093666, -134046287225625,  -25504913510647,  124269544358526]])\n",
      "Rank: 0 Shares after ReLU: tensor([[ -20335834269325,    1862188223396,   22422596809382,  122992649581334,\n",
      "           10942144071745,   92661931292462,  -36370634712460,    4303917339562,\n",
      "           95427716826396,  -29753629289758,  132682053306326,   -4382837259337,\n",
      "          -43569227988272,  -56871160109942,   96186304349222,   91283597244885,\n",
      "          -52829263550631,  -55452337381297, -126612973214354,  -15568818343686],\n",
      "        [  17053860104619, -104771133945462,   60277585718388,  -35958852283156,\n",
      "             566669727872,  132755904050627,  -76984972891512,   86073992517171,\n",
      "          -22045980813609,   -4491870038315,   -6641766124207,   55543264379939,\n",
      "           41736636970115,  -23671078654926,   24869162387491,  -16410704404076,\n",
      "            9730287527072,  -94768289625541, -109861819356995,   70891427765264],\n",
      "        [-116804010453248,  -60503265061133,  112710955304822, -126888227825270,\n",
      "          104831560868555,  -12800177436538,   67091481533778,  121809366765457,\n",
      "          -33047461688871, -124048872511227, -131754259787485,  132092660148971,\n",
      "          104098037363125, -133067523930206,  -63709774860683, -117051494575337,\n",
      "           84071442093666,  134046287225625,   25504913573259, -124269544358526]])\n",
      "\n",
      "\n",
      "Rank: 0 Second Linear layer:\n",
      " Output Encrypted: True\n",
      "Rank: 1 Second Linear layer:\n",
      " Output Encrypted: True\n",
      "\n",
      "\n",
      "Rank: 1 Shares after Second Linear layer:tensor([[1882203379329708255,  177137915967743634],\n",
      "        [1882366010665404070,  177083972450471081],\n",
      "        [1882280922776987770,  177180435755488709]])\n",
      "Rank: 0 Shares after Second Linear layer:tensor([[-1882203379329880952,  -177137915967574144],\n",
      "        [-1882366010665264043,  -177083972450557034],\n",
      "        [-1882280922776701637,  -177180435755712083]])\n",
      "\n",
      "\n",
      "Decrypted output:\n",
      " Output Encrypted: False\n",
      "Tensors:\n",
      " tensor([[-2.6351,  2.5862],\n",
      "        [ 2.1366, -1.3115],\n",
      "        [ 4.3660, -3.4084]])\n"
     ]
    }
   ],
   "source": [
    "@mpc.run_multiprocess(world_size=2)\n",
    "def step_through_two_layers():    \n",
    "    rank = comm.get().get_rank()\n",
    "\n",
    "    # Load and encrypt the network\n",
    "    model = crypten.load(sample_trained_model_file, dummy_model=AliceNet(), src=ALICE)\n",
    "    private_model = crypten.nn.from_pytorch(model, dummy_input=torch.empty((1, 50)))\n",
    "    private_model.encrypt(src=ALICE)\n",
    "\n",
    "    # Load and encrypt the data\n",
    "    data_enc = crypten.load(sample_data_bob_file, src=BOB)\n",
    "\n",
    "    # Forward through the first layer\n",
    "    out_enc = private_model._modules['5'].forward(data_enc)\n",
    "    print(\"Rank: {} First Linear Layer: Output Encrypted: {}\\n\".format(rank, crypten.is_encrypted_tensor(out_enc)))\n",
    "    print(\"Rank: {} Shares after First Linear Layer:{}\\n\".format(rank, out_enc.share))\n",
    "\n",
    "    # Apply ReLU activation\n",
    "    out_enc = private_model._modules['6'].forward(out_enc)\n",
    "    print(\"Rank: {} ReLU:\\n Output Encrypted: {}\\n\".format(rank, crypten.is_encrypted_tensor(out_enc)))\n",
    "    print(\"Rank: {} Shares after ReLU: {}\\n\".format(rank, out_enc.share))\n",
    "\n",
    "    # Forward through the second Linear layer\n",
    "    out_enc = private_model._modules['output'].forward(out_enc)\n",
    "    print(\"Rank: {} Second Linear layer:\\n Output Encrypted: {}\\n\".format(rank, crypten.is_encrypted_tensor(out_enc))), \n",
    "    print(\"Rank: {} Shares after Second Linear layer:{}\\n\".format(rank, out_enc.share))\n",
    "\n",
    "    # Decrypt the output\n",
    "    out_dec = out_enc.get_plain_text()\n",
    "    # Since both parties have same decrypted results, only print the rank 0 output\n",
    "    if rank == 0:\n",
    "        print(\"Decrypted output:\\n Output Encrypted:\", crypten.is_encrypted_tensor(out_dec))\n",
    "        print(\"Tensors:\\n\", out_dec)\n",
    "    \n",
    "z = step_through_two_layers()"
   ]
  },
  {
   "cell_type": "markdown",
   "metadata": {},
   "source": [
    "Again, we emphasize that the output of each layer is an encrypted tensor. Only after the final call to `get_plain_text` do we get the plaintext tensor.\n",
    "\n",
    "### From PyTorch to CrypTen: Structural Changes in Network Architecture \n",
    "\n",
    "We have used a simple two-layer network in the above example, but the same ideas apply to more complex networks and operations. However, in more complex networks, there may not always be a one-to-one mapping between the PyTorch layers and the CrypTen layers. This is because we use PyTorch's onnx implementation to convert PyTorch models to CrypTen models. \n",
    "As an example, we'll take a typical network used to classify digits in MNIST data, and look at what happens to its structure we convert it to a CrypTen module. (As we only wish to illustrate the structural changes in layers, we will not train this network on data; we will just use it with its randomly initialized weights). "
   ]
  },
  {
   "cell_type": "code",
   "execution_count": 13,
   "metadata": {},
   "outputs": [
    {
     "name": "stdout",
     "output_type": "stream",
     "text": [
      "Name: 24 \tModule: <crypten.nn.module.Conv2d object at 0x7fb6890a62d0>\n",
      "Name: 25 \tModule: <crypten.nn.module._BatchNorm object at 0x7fb6890a6190>\n",
      "Name: 26 \tModule: <crypten.nn.module.ReLU object at 0x7fb6890a6310>\n",
      "Name: 27 \tModule: <crypten.nn.module._ConstantPad object at 0x7fb6890a6c10>\n",
      "Name: 28 \tModule: <crypten.nn.module.AvgPool2d object at 0x7fb6890a6290>\n",
      "Name: 29 \tModule: <crypten.nn.module.Conv2d object at 0x7fb6b88de510>\n",
      "Name: 30 \tModule: <crypten.nn.module._BatchNorm object at 0x7fb6890a6e50>\n",
      "Name: 31 \tModule: <crypten.nn.module.ReLU object at 0x7fb6890a6150>\n",
      "Name: 32 \tModule: <crypten.nn.module._ConstantPad object at 0x7fb6890a61d0>\n",
      "Name: 33 \tModule: <crypten.nn.module.AvgPool2d object at 0x7fb6890a6f90>\n",
      "Name: 34 \tModule: <crypten.nn.module.Constant object at 0x7fb6890a6c50>\n",
      "Name: 35 \tModule: <crypten.nn.module.Shape object at 0x7fb6890a6ed0>\n",
      "Name: 36 \tModule: <crypten.nn.module.Gather object at 0x7fb6890a6d90>\n",
      "Name: 37 \tModule: <crypten.nn.module.Constant object at 0x7fb6890a6c90>\n",
      "Name: 38 \tModule: <crypten.nn.module.Unsqueeze object at 0x7fb6890a6b90>\n",
      "Name: 39 \tModule: <crypten.nn.module.Unsqueeze object at 0x7fb6890a6850>\n",
      "Name: 40 \tModule: <crypten.nn.module.Concat object at 0x7fb6890a6450>\n",
      "Name: 41 \tModule: <crypten.nn.module.Reshape object at 0x7fb6890a65d0>\n",
      "Name: 42 \tModule: <crypten.nn.module.Linear object at 0x7fb6890a6390>\n",
      "Name: 43 \tModule: <crypten.nn.module.Unsqueeze object at 0x7fb6890a6b50>\n",
      "Name: 44 \tModule: <crypten.nn.module._BatchNorm object at 0x7fb689098510>\n",
      "Name: 45 \tModule: <crypten.nn.module.Squeeze object at 0x7fb689098090>\n",
      "Name: 46 \tModule: <crypten.nn.module.ReLU object at 0x7fb689098550>\n",
      "Name: output \tModule: <crypten.nn.module.Linear object at 0x7fb689098150>\n"
     ]
    }
   ],
   "source": [
    "# Define Alice's network\n",
    "class AliceNet2(nn.Module):\n",
    "    def __init__(self):\n",
    "        super(AliceNet2, self).__init__()\n",
    "        self.conv1 = nn.Conv2d(1, 16, kernel_size=5, padding=0)\n",
    "        self.conv2 = nn.Conv2d(16, 16, kernel_size=5, padding=0)\n",
    "        self.fc1 = nn.Linear(16 * 4 * 4, 100)\n",
    "        self.fc2 = nn.Linear(100, 10)\n",
    "        self.batchnorm1 = nn.BatchNorm2d(16)\n",
    "        self.batchnorm2 = nn.BatchNorm2d(16)\n",
    "        self.batchnorm3 = nn.BatchNorm1d(100)\n",
    " \n",
    "    def forward(self, x):\n",
    "        out = self.conv1(x)\n",
    "        out = self.batchnorm1(out)\n",
    "        out = F.relu(out)\n",
    "        out = F.avg_pool2d(out, 2)\n",
    "        out = self.conv2(out)\n",
    "        out = self.batchnorm2(out)\n",
    "        out = F.relu(out)\n",
    "        out = F.avg_pool2d(out, 2)\n",
    "        out = out.view(out.size(0), -1)\n",
    "        out = self.fc1(out)\n",
    "        out = self.batchnorm3(out)\n",
    "        out = F.relu(out)\n",
    "        out = self.fc2(out)\n",
    "        return out\n",
    "    \n",
    "model = AliceNet2()\n",
    "\n",
    "# Let's encrypt the complex network. \n",
    "# Create dummy input of the correct input shape for the model\n",
    "dummy_input = torch.empty((1, 1, 28, 28))\n",
    "\n",
    "# Encrypt the network\n",
    "private_model = crypten.nn.from_pytorch(model, dummy_input)\n",
    "private_model.encrypt(src=ALICE)\n",
    "\n",
    "# Examine the structure of the encrypted network\n",
    "for name, curr_module in private_model._modules.items():\n",
    "    print(\"Name:\", name, \"\\tModule:\", curr_module)"
   ]
  },
  {
   "cell_type": "markdown",
   "metadata": {},
   "source": [
    "Notice how the CrypTen network has split some the layers in the PyTorch module into several CrypTen modules. Each PyTorch operation may correspond to one or more operations in CrypTen. However, during the conversion, these are sometimes split due to limitations intorduced by onnx.\n",
    "\n",
    "Before exiting this tutorial, please clean up the files generated using the following code."
   ]
  },
  {
   "cell_type": "code",
   "execution_count": 14,
   "metadata": {},
   "outputs": [],
   "source": [
    "import os\n",
    "for fn in temp_files:\n",
    "    if os.path.exists(fn): os.remove(fn)"
   ]
  }
 ],
 "metadata": {
  "kernelspec": {
   "display_name": "Python 3",
   "language": "python",
   "name": "python3"
  },
  "language_info": {
   "codemirror_mode": {
    "name": "ipython",
    "version": 3
   },
   "file_extension": ".py",
   "mimetype": "text/x-python",
   "name": "python",
   "nbconvert_exporter": "python",
   "pygments_lexer": "ipython3",
   "version": "3.7.4"
  }
 },
 "nbformat": 4,
 "nbformat_minor": 2
}
