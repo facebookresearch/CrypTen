{
 "cells": [
  {
   "cell_type": "markdown",
   "metadata": {},
   "source": [
    "# CrypTen on AWS Instances\n",
    "\n",
    "Our previous tutorials have covered the essentials of using CrypTen on our local machines. We also provides a script `aws_launcher.py` in the `scripts` directory that will allow you to compute on encrypted data on multiple AWS instances. \n",
    "\n",
    "For example, if Alice has a classifier on one AWS instance and Bob has data on another AWS instance, `aws_launcher.py` will allow Alice and Bob to classify the data without revealing their respective private information (just as we did in Tutorial 4). \n",
    "\n",
    "## Using the Launcher Script\n",
    "\n",
    "The steps to follow are:\n",
    "<ol>\n",
    "    <li> First, create multiple AWS instances with public AMI \"Deep Learning AMI (Ubuntu) Version 24.0\", and record the instance IDs. </li>\n",
    "    <li> Install PyTorch, CrypTen and dependencies of the program to be run on all AWS instances.</li>\n",
    "    <li> Run `aws_launcher.py` on your local machine, as we explain below.</li>\n",
    "</ol>\n",
    "The results are left on the AWS instances. Log messages will be printed on your local machine by launcher script.\n",
    "\n",
    "## Sample Run\n",
    "\n",
    "The following cell shows a sample usage of the `aws_launcher.py` script. Note, however, that the command in the cell will not work as is: please replace the parameters used with appropriate ones with your own AWS instances, usernames, and `.ssh` keys (see documentation in the `aws_launcher.py` script). "
   ]
  },
  {
   "cell_type": "code",
   "execution_count": null,
   "metadata": {},
   "outputs": [],
   "source": [
    "%%script bash\n",
    "python3 [PATH_TO_CRYPTEN]/CrypTen/scripts/aws_launcher.py \\\n",
    "--ssh_key_file [SSH_KEY_FILE] --instances=[AWS_INSTANCE1, AWS_INSTANCE2...] \\\n",
    "--region [AWS_REGION] \\\n",
    "--ssh_user [AWS_USERNAME] \\\n",
    "--aux_files=[PATH_TO_CRYPTEN]/CrypTen/examples/mpc_linear_svm/mpc_linear_svm.py [PATH_TO_CRYPTEN]/CrypTen/examples/mpc_linear_svm/launcher.py \\\n",
    "--features 50 \\\n",
    "--examples 100 \\\n",
    "--epochs 50 \\\n",
    "--lr 0.5 \\\n",
    "--skip_plaintext"
   ]
  },
  {
   "cell_type": "code",
   "execution_count": null,
   "metadata": {},
   "outputs": [],
   "source": []
  }
 ],
 "metadata": {
  "kernelspec": {
   "display_name": "Python 3",
   "language": "python",
   "name": "python3"
  },
  "language_info": {
   "codemirror_mode": {
    "name": "ipython",
    "version": 3
   },
   "file_extension": ".py",
   "mimetype": "text/x-python",
   "name": "python",
   "nbconvert_exporter": "python",
   "pygments_lexer": "ipython3",
   "version": "3.7.6"
  }
 },
 "nbformat": 4,
 "nbformat_minor": 2
}
